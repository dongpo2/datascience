{
 "cells": [
  {
   "cell_type": "markdown",
   "metadata": {},
   "source": [
    "# 使用卷积神经网络(CNN)识别手写体数字"
   ]
  },
  {
   "cell_type": "code",
   "execution_count": 2,
   "metadata": {
    "collapsed": false
   },
   "outputs": [
    {
     "name": "stderr",
     "output_type": "stream",
     "text": [
      "Using TensorFlow backend.\n"
     ]
    }
   ],
   "source": [
    "from keras.models import Sequential\n",
    "from keras.layers.core import Flatten, Dense, Dropout\n",
    "from keras.layers.convolutional import Convolution2D, MaxPooling2D, ZeroPadding2D\n",
    "from keras.optimizers import SGD, RMSprop, Adam\n",
    "import numpy as np"
   ]
  },
  {
   "cell_type": "markdown",
   "metadata": {},
   "source": [
    "## 1. 卷积神经网络(CNN)简介\n",
    "如下图，这是一个多层的卷积神经网络示意图。\n",
    "<ul>\n",
    "<li>\n",
    "输入层为224×224×3的图片数据\n",
    "</li>\n",
    "<li>\n",
    "第一层是通过7*7的卷积核并使用步长为2的卷积操作，结果为110×100×96。\n",
    "继续使用3×3，步长2的最大池操作，进一步得到55×55×96的输出。\n",
    "</li>\n",
    "<li>\n",
    "第二层在第一层输出的55×55上进行5×5，步长2的卷积操作，结果得到26×26×256。\n",
    "使用3×3，步长2的最大池操作，得到13×13×256的输出。\n",
    "</li>\n",
    "<li>\n",
    "第三层和第四层是简单卷积层，卷积核3×3，步长为1，得到与原来相同的像素，但特征扩展到384。\n",
    "</li>\n",
    "<li>\n",
    "第五层使用第四层结果，3*3卷积，步长1，得到13×13×256，继续使用3×3，步长2的最大池，得6×6×256的输出。\n",
    "</li>\n",
    "<li>\n",
    "第六层和第七层为全连接层，最后使用softmax函数分类，得到结果。\n",
    "</li>\n",
    "</ul>\n",
    "<p/>\n",
    "<strong>** 图片摘自\"Visualizing and Understanding Convolutional Networks\" - Matthew D. Zeiler and Rob Fergus</strong>"
   ]
  },
  {
   "cell_type": "markdown",
   "metadata": {},
   "source": [
    "<img src=\"../datasets/CNN.PNG\"/>"
   ]
  },
  {
   "cell_type": "markdown",
   "metadata": {},
   "source": [
    "## 2. 构建CNN模型\n",
    "### 2.1 模型定义\n",
    "使用类似VGG的方式构建CNN模型：\n",
    "<ul>\n",
    "<li>\n",
    "输入层为28*28*1的手写体图片(黑白)；\n",
    "</li>\n",
    "<li>\n",
    "使用3*3卷积核步长为缺省值1，激活函数使用relu，特征选择16，将得到28*28*16的输出。\n",
    "</li>\n",
    "<li>\n",
    "重复使用上个层的处理，得到28*28*16输出。\n",
    "</li>\n",
    "<li>\n",
    "使用2*2，步长2的最大池层，得到14*14*16输出。\n",
    "</li>\n",
    "<li>\n",
    "使用3*3卷积核步长为缺省值1，激活函数使用relu，特征选择32，将得到14*14*32的输出。\n",
    "</li>\n",
    "<li>\n",
    "使用3*3卷积核步长为缺省值1，激活函数使用relu，特征选择64，将得到14*14*64的输出。\n",
    "</li>\n",
    "<li>\n",
    "使用全连接层，使用隐藏单元为128。\n",
    "</li>\n",
    "<li>\n",
    "最后使用softmax函数把全连接层输出到10个分类(0-9)。\n",
    "</li>\n",
    "</ul>"
   ]
  },
  {
   "cell_type": "code",
   "execution_count": 3,
   "metadata": {
    "collapsed": false
   },
   "outputs": [],
   "source": [
    "def VGG_like(weights_path=None):\n",
    "    model = Sequential()\n",
    "    model.add(ZeroPadding2D((1,1),input_shape=(28,28,1)))\n",
    "    model.add(Convolution2D(16, (3, 3), activation='relu'))\n",
    "    model.add(ZeroPadding2D((1,1)))\n",
    "    model.add(Convolution2D(16, (3, 3), activation='relu'))\n",
    "    model.add(MaxPooling2D((2,2), strides=(2,2)))\n",
    "    model.add(Dropout(0.25))\n",
    "\n",
    "    model.add(ZeroPadding2D((1,1)))\n",
    "    model.add(Convolution2D(32, (3, 3), activation='relu'))\n",
    "    model.add(ZeroPadding2D((1,1)))\n",
    "    model.add(Convolution2D(64, (3, 3), activation='relu'))\n",
    "#    model.add(Convolution2D(64, (3, 3), activation='relu'))\n",
    "#    model.add(MaxPooling2D((2,2), strides=(2,2)))\n",
    "    model.add(Dropout(0.25))\n",
    "\n",
    "    model.add(Flatten())\n",
    "    model.add(Dense(128, activation='relu'))\n",
    "    model.add(Dropout(0.5))\n",
    "    model.add(Dense(10, activation='softmax'))\n",
    "\n",
    "    if weights_path:\n",
    "        model.load_weights(weights_path)\n",
    "\n",
    "    return model"
   ]
  },
  {
   "cell_type": "code",
   "execution_count": 4,
   "metadata": {
    "collapsed": true
   },
   "outputs": [],
   "source": [
    "model = VGG_like()\n",
    "#sgd = SGD(lr=0.1, decay=1e-6, momentum=0.9, nesterov=True)\n",
    "#model.compile(optimizer=sgd, loss='categorical_crossentropy')"
   ]
  },
  {
   "cell_type": "markdown",
   "metadata": {},
   "source": [
    "### 2.2 CNN模型层次描述"
   ]
  },
  {
   "cell_type": "code",
   "execution_count": 5,
   "metadata": {
    "collapsed": false
   },
   "outputs": [
    {
     "name": "stdout",
     "output_type": "stream",
     "text": [
      "_________________________________________________________________\n",
      "Layer (type)                 Output Shape              Param #   \n",
      "=================================================================\n",
      "zero_padding2d_1 (ZeroPaddin (None, 30, 30, 1)         0         \n",
      "_________________________________________________________________\n",
      "conv2d_1 (Conv2D)            (None, 28, 28, 16)        160       \n",
      "_________________________________________________________________\n",
      "zero_padding2d_2 (ZeroPaddin (None, 30, 30, 16)        0         \n",
      "_________________________________________________________________\n",
      "conv2d_2 (Conv2D)            (None, 28, 28, 16)        2320      \n",
      "_________________________________________________________________\n",
      "max_pooling2d_1 (MaxPooling2 (None, 14, 14, 16)        0         \n",
      "_________________________________________________________________\n",
      "dropout_1 (Dropout)          (None, 14, 14, 16)        0         \n",
      "_________________________________________________________________\n",
      "zero_padding2d_3 (ZeroPaddin (None, 16, 16, 16)        0         \n",
      "_________________________________________________________________\n",
      "conv2d_3 (Conv2D)            (None, 14, 14, 32)        4640      \n",
      "_________________________________________________________________\n",
      "zero_padding2d_4 (ZeroPaddin (None, 16, 16, 32)        0         \n",
      "_________________________________________________________________\n",
      "conv2d_4 (Conv2D)            (None, 14, 14, 64)        18496     \n",
      "_________________________________________________________________\n",
      "dropout_2 (Dropout)          (None, 14, 14, 64)        0         \n",
      "_________________________________________________________________\n",
      "flatten_1 (Flatten)          (None, 12544)             0         \n",
      "_________________________________________________________________\n",
      "dense_1 (Dense)              (None, 128)               1605760   \n",
      "_________________________________________________________________\n",
      "dropout_3 (Dropout)          (None, 128)               0         \n",
      "_________________________________________________________________\n",
      "dense_2 (Dense)              (None, 10)                1290      \n",
      "=================================================================\n",
      "Total params: 1,632,666.0\n",
      "Trainable params: 1,632,666.0\n",
      "Non-trainable params: 0.0\n",
      "_________________________________________________________________\n"
     ]
    }
   ],
   "source": [
    "model.summary()"
   ]
  },
  {
   "cell_type": "markdown",
   "metadata": {},
   "source": [
    "## 3. 准备数据"
   ]
  },
  {
   "cell_type": "code",
   "execution_count": 6,
   "metadata": {
    "collapsed": false
   },
   "outputs": [],
   "source": [
    "from sklearn.model_selection import train_test_split\n",
    "from sklearn.metrics import classification_report\n",
    "from sklearn import datasets\n",
    "import numpy as np\n",
    "import matplotlib.pyplot as plt\n",
    "import matplotlib.image as mpimg\n",
    "%matplotlib inline"
   ]
  },
  {
   "cell_type": "markdown",
   "metadata": {},
   "source": [
    "### 3.1 下载手写数字数据集"
   ]
  },
  {
   "cell_type": "code",
   "execution_count": 7,
   "metadata": {
    "collapsed": false
   },
   "outputs": [
    {
     "name": "stdout",
     "output_type": "stream",
     "text": [
      "Extracting MNIST_data/train-images-idx3-ubyte.gz\n",
      "Extracting MNIST_data/train-labels-idx1-ubyte.gz\n",
      "Extracting MNIST_data/t10k-images-idx3-ubyte.gz\n",
      "Extracting MNIST_data/t10k-labels-idx1-ubyte.gz\n"
     ]
    }
   ],
   "source": [
    "from tensorflow.examples.tutorials.mnist import input_data\n",
    "mnist = input_data.read_data_sets(\"MNIST_data/\")"
   ]
  },
  {
   "cell_type": "code",
   "execution_count": 8,
   "metadata": {
    "collapsed": true
   },
   "outputs": [],
   "source": [
    "mnist_images = mnist.train.images\n",
    "mnist_labels = mnist.train.labels"
   ]
  },
  {
   "cell_type": "code",
   "execution_count": 9,
   "metadata": {
    "collapsed": false
   },
   "outputs": [
    {
     "name": "stderr",
     "output_type": "stream",
     "text": [
      "/opt/conda/lib/python2.7/site-packages/sklearn/cross_validation.py:44: DeprecationWarning: This module was deprecated in version 0.18 in favor of the model_selection module into which all the refactored classes and functions are moved. Also note that the interface of the new CV iterators are different from that of this module. This module will be removed in 0.20.\n",
      "  \"This module will be removed in 0.20.\", DeprecationWarning)\n"
     ]
    }
   ],
   "source": [
    "from sklearn.cross_validation import train_test_split\n",
    "from sklearn.metrics import classification_report\n",
    "from sklearn import datasets"
   ]
  },
  {
   "cell_type": "markdown",
   "metadata": {},
   "source": [
    "### 3.2 分拆数据集为训练集和验证集\n",
    "需要把标签数字调整为长度10的向量"
   ]
  },
  {
   "cell_type": "code",
   "execution_count": 10,
   "metadata": {
    "collapsed": false
   },
   "outputs": [
    {
     "name": "stdout",
     "output_type": "stream",
     "text": [
      "('Number of images for training:', 36850)\n",
      "('Number of images used for testing:', 18150)\n",
      "('Each image is:', 28, 'by', 28, 'pixels')\n"
     ]
    }
   ],
   "source": [
    "trX, teX, trY, teY = train_test_split(mnist_images, mnist_labels.astype(\"int0\"), test_size = 0.33)\n",
    "print(\"Number of images for training:\", trX.shape[0])\n",
    "print(\"Number of images used for testing:\", teX.shape[0])\n",
    "pix = int(np.sqrt(teX.shape[1]))\n",
    "print(\"Each image is:\", pix, \"by\", pix, \"pixels\")\n",
    "trX = trX.reshape(trX.shape[0],28,28,1)\n",
    "teX = teX.reshape(teX.shape[0],28,28,1)\n"
   ]
  },
  {
   "cell_type": "code",
   "execution_count": 11,
   "metadata": {
    "collapsed": false
   },
   "outputs": [],
   "source": [
    "import keras as kr\n",
    "teL = kr.utils.to_categorical(teY, 10)\n",
    "trL = kr.utils.to_categorical(trY, 10)"
   ]
  },
  {
   "cell_type": "markdown",
   "metadata": {},
   "source": [
    "## 4. 训练数据"
   ]
  },
  {
   "cell_type": "code",
   "execution_count": 18,
   "metadata": {
    "collapsed": true
   },
   "outputs": [],
   "source": [
    "model.compile(optimizer=Adam(lr=0.001),\n",
    "              loss='categorical_crossentropy',\n",
    "              metrics=['accuracy'])"
   ]
  },
  {
   "cell_type": "markdown",
   "metadata": {},
   "source": [
    "如果已经训练好，可以直接载入训练好的参数文件"
   ]
  },
  {
   "cell_type": "code",
   "execution_count": 20,
   "metadata": {
    "collapsed": true
   },
   "outputs": [],
   "source": [
    "model.load_weights(\"vgg_like.hdf5\")"
   ]
  },
  {
   "cell_type": "markdown",
   "metadata": {},
   "source": [
    "如果第一次，或者需要重新调整，可以进行数据训练"
   ]
  },
  {
   "cell_type": "code",
   "execution_count": 13,
   "metadata": {
    "collapsed": false
   },
   "outputs": [
    {
     "data": {
      "text/plain": [
       "'\\nmodel.compile(optimizer=Adam(lr=0.001),\\n              loss=\\'categorical_crossentropy\\',\\n              metrics=[\\'accuracy\\'])\\nmodel.fit(trX, trL, epochs=3,\\n            validation_data=(teX, teL), batch_size=64)\\n\\nmodel.save_weights(\"vgg_like.hdf5\")\\n'"
      ]
     },
     "execution_count": 13,
     "metadata": {},
     "output_type": "execute_result"
    }
   ],
   "source": [
    "\"\"\"\n",
    "model.fit(trX, trL, epochs=3,\n",
    "            validation_data=(teX, teL), batch_size=64)\n",
    "\n",
    "model.save_weights(\"vgg_like.hdf5\")\n",
    "\"\"\""
   ]
  },
  {
   "cell_type": "markdown",
   "metadata": {},
   "source": [
    "根据测试集评估准确率"
   ]
  },
  {
   "cell_type": "code",
   "execution_count": 21,
   "metadata": {
    "collapsed": false
   },
   "outputs": [
    {
     "name": "stdout",
     "output_type": "stream",
     "text": [
      "('Test loss:', 0.04298104551467806)\n",
      "('Test accuracy:', 0.98606060606060608)\n"
     ]
    }
   ],
   "source": [
    "score = model.evaluate(teX, teL, verbose=0)\n",
    "print('Test loss:', score[0])\n",
    "print('Test accuracy:', score[1])"
   ]
  },
  {
   "cell_type": "markdown",
   "metadata": {},
   "source": [
    "## 5. 最后利用训练好模型对手写数字进行分类并展现"
   ]
  },
  {
   "cell_type": "code",
   "execution_count": 15,
   "metadata": {
    "collapsed": false
   },
   "outputs": [
    {
     "name": "stdout",
     "output_type": "stream",
     "text": [
      "('Actual digit is', array([3]), 'predicted', array([ 0.  ,  0.  ,  0.  ,  0.99,  0.  ,  0.  ,  0.  ,  0.  ,  0.  ,  0.  ]))\n"
     ]
    },
    {
     "data": {
      "image/png": "[encoded data removed]",
      "text/plain": [
       "<matplotlib.figure.Figure at 0x7fe93814f150>"
      ]
     },
     "metadata": {},
     "output_type": "display_data"
    }
   ],
   "source": [
    "def randIm():\n",
    "    i = np.random.choice(np.arange(0, len(teY)), size = (1,))\n",
    "    pred = model.predict(teX[i].reshape(1, 28, 28,1))\n",
    "    image = (teX[i] * 255).reshape((28, 28)).astype(\"uint8\")\n",
    "    # show the prediction\n",
    "    print(\"Actual digit is\", teY[i], \"predicted\", (pred[0]*100).astype(\"int\")/100.0)\n",
    "    imgplot = plt.imshow(image)\n",
    "    imgplot.set_cmap('gray')   \n",
    "\n",
    "randIm() "
   ]
  },
  {
   "cell_type": "code",
   "execution_count": 16,
   "metadata": {
    "collapsed": false
   },
   "outputs": [
    {
     "name": "stdout",
     "output_type": "stream",
     "text": [
      "('Actual digit is', array([7]), 'predicted', array([ 0.  ,  0.  ,  0.  ,  0.  ,  0.  ,  0.  ,  0.  ,  0.99,  0.  ,  0.  ]))\n"
     ]
    },
    {
     "data": {
      "image/png": "[encoded data removed]",
      "text/plain": [
       "<matplotlib.figure.Figure at 0x7fe924bea150>"
      ]
     },
     "metadata": {},
     "output_type": "display_data"
    }
   ],
   "source": [
    "randIm() "
   ]
  },
  {
   "cell_type": "code",
   "execution_count": 17,
   "metadata": {
    "collapsed": false
   },
   "outputs": [
    {
     "name": "stdout",
     "output_type": "stream",
     "text": [
      "('Actual digit is', array([9]), 'predicted', array([ 0.  ,  0.  ,  0.  ,  0.  ,  0.  ,  0.  ,  0.  ,  0.  ,  0.  ,  0.99]))\n"
     ]
    },
    {
     "data": {
      "image/png": "[encoded data removed]",
      "text/plain": [
       "<matplotlib.figure.Figure at 0x7fe924b44b10>"
      ]
     },
     "metadata": {},
     "output_type": "display_data"
    }
   ],
   "source": [
    "randIm() "
   ]
  },
  {
   "cell_type": "markdown",
   "metadata": {
    "collapsed": true
   },
   "source": [
    "\n",
    "## 6. 小结\n",
    "\n",
    "在这个示例中, 演示使用卷积神经网络CNN来对MNIST的手写体数字进行训练和识别分类。此案例可以帮助我们了解CNN的基本原理以及如何使用keras构建图片识别模型。相比DBN，我们得到了更高的精确率，如果机器允许，我们还可以增加filters等来继续提高精度。\n",
    "\n",
    "## 作者\n",
    "\n",
    "**李英伟 liyingw@cn.ibm.com ** \n"
   ]
  },
  {
   "cell_type": "code",
   "execution_count": null,
   "metadata": {
    "collapsed": true
   },
   "outputs": [],
   "source": []
  }
 ],
 "metadata": {
  "kernelspec": {
   "display_name": "Python2 with DSX Spark",
   "language": "python",
   "name": "python2"
  },
  "language_info": {
   "codemirror_mode": {
    "name": "ipython",
    "version": 2
   },
   "file_extension": ".py",
   "mimetype": "text/x-python",
   "name": "python",
   "nbconvert_exporter": "python",
   "pygments_lexer": "ipython2",
   "version": "2.7.13"
  }
 },
 "nbformat": 4,
 "nbformat_minor": 2
}
