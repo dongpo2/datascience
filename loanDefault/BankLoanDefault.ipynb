{
    "nbformat_minor": 1, 
    "cells": [
        {
            "source": "# \u94f6\u884c\u5ba2\u6237\u8d37\u6b3e\u8fdd\u7ea6\u9884\u6d4b", 
            "cell_type": "markdown", 
            "metadata": {}
        }, 
        {
            "source": "<p style=\"text-indent: 2em; font-family: \u5fae\u8f6f\u96c5\u9ed1; FONT-SIZE: 100%; COLOR: #191919; line-height: 1.5em;\">\n\u8fd9\u91cc\u662f\u5229\u7528IBM DSX\u6765\u5bf9\u94f6\u884c\u5ba2\u6237\u8d37\u6b3e\u7684\u6570\u636e\u96c6\u8fdb\u884c\u5efa\u6a21\u9884\u6d4b\u672a\u6765\u8fdd\u7ea6\u7684\u53ef\u80fd\u6027\u3002\n</p>\n<p style=\"text-indent: 2em; font-family: \u5fae\u8f6f\u96c5\u9ed1; FONT-SIZE: 100%; COLOR: #191919; line-height: 1.5em;\">\n\u8fd9\u4e2a\u6587\u6863\u5305\u62ec\u4e86\u4ece\u6570\u636e\u52a0\u8f7d\u3001\u6570\u636e\u7406\u89e3\u3001\u6570\u636e\u5904\u7406\u51c6\u5907\u3001\u5efa\u6a21\u3001\u6a21\u578b\u90e8\u7f72\u4e0eAPI\u6d4b\u8bd5\u3002\n</p>", 
            "cell_type": "markdown", 
            "metadata": {}
        }, 
        {
            "source": "## 1. \u52a0\u8f7d\u6570\u636e", 
            "cell_type": "markdown", 
            "metadata": {}
        }, 
        {
            "source": "<p style=\"text-indent: 0em; font-family: \u5fae\u8f6f\u96c5\u9ed1; FONT-SIZE: 100%; COLOR: #191919; line-height: 1.5em;\">\n\u4ecegithub\u4e0b\u8f7d\u6570\u636e\u6587\u4ef6\uff0c\u53ef\u4ee5\u91c7\u75282\u79cd\u65b9\u5f0f(\u4e8c\u9009\u4e00\uff0c\u4e0d\u540c\u65f6\u8fd0\u884c)\uff1a\n</p>\n<ol>\n    <li>\u4e0b\u8f7d<a href=\"https://raw.githubusercontent.com/dongpo2/datascience/master/loanDefault/bankloan.csv\" target=\"_blank\">\u6570\u636e\u6587\u4ef6</a>\u5230\u672c\u5730\uff0c\u7136\u540e\u76f4\u63a5\u4ece\u672c\u5730\u88c5\u8f7d\u6587\u4ef6\u5230DSX</li>\n        <ul><li> URL:<a href=\"https://raw.githubusercontent.com/dongpo2/datascience/master/loanDefault/bankloan.csv\" target=\"_blank\">https://raw.githubusercontent.com/dongpo2/datascience/master/loanDefault/bankloan.csv</a></li></ul>\n    <li>\u6216\u8005\uff0c\u4f7f\u7528wget\u76f4\u63a5\u4ecegithub\u4e0b\u8f7d\u5230DSX\uff0c\u7136\u540e\u4fdd\u5b58\u5230cloud-object-storage</li>\n</ol>\n", 
            "cell_type": "markdown", 
            "metadata": {}
        }, 
        {
            "source": "### 1.1a \u76f4\u63a5\u4e0b\u8f7d\u6587\u4ef6\uff0c\u5e76\u5bfc\u5165DSX", 
            "cell_type": "markdown", 
            "metadata": {}
        }, 
        {
            "source": "<p style=\"text-indent: 2em; font-family: \u5fae\u8f6f\u96c5\u9ed1; FONT-SIZE: 100%; COLOR: #191919; line-height: 1.5em;\">\n\u4e0b\u8f7d\u6587\u4ef6\uff0c\u4fdd\u5b58\u5230\u672c\u5730\uff0c\u6587\u4ef6\u540d\u79f0\u5982\uff1abankloan.csv\u3002\u7136\u540e\uff0c\u70b9\u51fb\u53f3\u4e0a\u89d2\"Data\"\u56fe\u6807\uff0c\u5728\u53f3\u4fa7\u7684Files\u680f\u52a0\u5165bankloan.csv\u6587\u4ef6\n</p>", 
            "cell_type": "markdown", 
            "metadata": {}
        }, 
        {
            "source": "### 1.1b \u4f7f\u7528wget\u4e0b\u8f7d\u6587\u4ef6\u5e76\u4fdd\u5b58\u5230DSX\n<p style=\"text-indent: 2em; font-family: \u5fae\u8f6f\u96c5\u9ed1; FONT-SIZE: 100%; COLOR: #191919; line-height: 1.5em;\">\n\u5982\u679c\u7b2c\u4e00\u6b21\u8fd0\u884c\uff0c\u8bf7\u5b89\u88c5wget\u7a0b\u5e8f\u5305\uff1b\u5982\u679c\u5df2\u7ecf\u5b89\u88c5\uff0c\u8bf7\u7565\u8fc7\uff0c\u6216\u6ce8\u91ca\u6389\u4e0b\u9762\u4ee3\u7801\u3002\n</p>", 
            "cell_type": "markdown", 
            "metadata": {}
        }, 
        {
            "execution_count": 5, 
            "cell_type": "code", 
            "metadata": {}, 
            "outputs": [
                {
                    "output_type": "stream", 
                    "name": "stdout", 
                    "text": "Collecting wget\n  Using cached wget-3.2.zip\nBuilding wheels for collected packages: wget\n  Running setup.py bdist_wheel for wget ... \u001b[?25ldone\n\u001b[?25h  Stored in directory: /gpfs/fs01/user/s206-67b383ca00dcf3-efce55bf60d1/.cache/pip/wheels/6d/98/29/61ccc41148f871009126c2e844e26f73eeb25e12cca92228a5\nSuccessfully built wget\nInstalling collected packages: wget\nSuccessfully installed wget-3.2\n"
                }
            ], 
            "source": "!pip install --user wget"
        }, 
        {
            "source": "<p style=\"text-indent: 2em; font-family: \u5fae\u8f6f\u96c5\u9ed1; FONT-SIZE: 100%; COLOR: #191919; line-height: 1.5em;\">\n\u4f7f\u7528wget\u4e0b\u8f7d\u6587\u4ef6\u5230\u672c\u5730\uff0c\u6587\u4ef6\u540d\uff1abankloan.csv\u3002\n</p>", 
            "cell_type": "markdown", 
            "metadata": {}
        }, 
        {
            "execution_count": 1, 
            "cell_type": "code", 
            "metadata": {}, 
            "outputs": [
                {
                    "output_type": "stream", 
                    "name": "stdout", 
                    "text": "bankloan.csv\n"
                }
            ], 
            "source": "import os\nimport wget\n\nif os.path.isfile(\"bankloan.csv\"):\n    filename = \"bankloan.csv\"\nelse:\n    link_to_data = 'https://raw.githubusercontent.com/dongpo2/datascience/master/loanDefault/bankloan.csv'\n    filename = wget.download(link_to_data)\nprint(filename)"
        }, 
        {
            "source": "<p style=\"text-indent: 2em; font-family: \u5fae\u8f6f\u96c5\u9ed1; FONT-SIZE: 100%; COLOR: #191919; line-height: 1.5em;\">\n<strong>\u8d4b\u503c\u670d\u52a1\u7684\u76f8\u5173\u53d8\u91cf\uff1a</strong>\n</p>\n<ul>\n    <li>BUCKET=\"\" # \u53f3\u4e0a\u89d2\u7528\u6237\u56fe\u6807->setting\uff0c\u70b9\u51fb\"Apps and Services\"\uff0c\u9009\u62e9cloud-object-storage-xx\uff0c\u9009\u62e9\u7ba1\u7406\uff0c\u70b9\u51fbbuckets\uff0c\u590d\u5236\u9879\u76ee\u76f8\u5e94\u5b58\u50a8\u533a\u540d\u79f0\u5230\u5de6\u4fa7</li>\n    <li>IBM_API_KEY_ID=\"\"  # \u70b9\u51fb\"\u670d\u52a1\u51ed\u8bc1\"\uff0c\u627e\u5230\u5bf9\u5e94WDP-Editor-<BUCKET>\uff0c\u70b9\u51fb\u67e5\u770b\u51ed\u8bc1\uff0c\u590d\u5236\"apikey\"\u540e\u9762\u503c\u5230\u5de6\u4fa7</li>\n    <li>ENDPOINT_URL=\"\" # \u590d\u5236\"endpoints\"\u540e\u9762\u503c\u5230\u5de6\u4fa7</li>\n</ul>\n<p style=\"text-indent: 2em; font-family: \u5fae\u8f6f\u96c5\u9ed1; FONT-SIZE: 100%; COLOR: #191919; line-height: 1.5em;\">\n<strong> \u6ce8\uff1a\u5982\u679c\u4f7f\u7528\u7b2c\u4e00\u79cd\u65b9\u5f0f\uff0c\u4e0d\u6267\u884c\u4e0b\u9762cell</strong>\n</p>", 
            "cell_type": "markdown", 
            "metadata": {}
        }, 
        {
            "execution_count": 2, 
            "cell_type": "code", 
            "metadata": {}, 
            "outputs": [], 
            "source": "# The code was removed by DSX for sharing."
        }, 
        {
            "source": "<p style=\"text-indent: 2em; font-family: \u5fae\u8f6f\u96c5\u9ed1; FONT-SIZE: 100%; COLOR: #191919; line-height: 1.5em;\">\n\u5b9a\u4e49\u4e0e\u5b58\u50a8\u7684\u8bbf\u95ee\u63a5\u53e3\u51fd\u6570client_manual\n</p>\n<p style=\"text-indent: 2em; font-family: \u5fae\u8f6f\u96c5\u9ed1; FONT-SIZE: 100%; COLOR: #191919; line-height: 1.5em;\">\n<strong> \u6ce8\uff1a\u5982\u679c\u4f7f\u7528\u7b2c\u4e00\u79cd\u65b9\u5f0f\uff0c\u4e0d\u6267\u884c\u4e0b\u9762cell</strong>\n</p>", 
            "cell_type": "markdown", 
            "metadata": {}
        }, 
        {
            "execution_count": 3, 
            "cell_type": "code", 
            "metadata": {}, 
            "outputs": [], 
            "source": "import sys\nimport types\nimport pandas as pd\nfrom botocore.client import Config\nimport ibm_boto3\n\ndef __iter__(self): return 0\n\nclient_manual = ibm_boto3.client(service_name='s3',\n    ibm_api_key_id=IBM_API_KEY_ID,\n    ibm_auth_endpoint=\"https://iam.ng.bluemix.net/oidc/token\",\n    config=Config(signature_version='oauth'),\n    endpoint_url=ENDPOINT_URL)\n"
        }, 
        {
            "source": "<p style=\"text-indent: 2em; font-family: \u5fae\u8f6f\u96c5\u9ed1; FONT-SIZE: 100%; COLOR: #191919; line-height: 1.5em;\">\n\u4e0a\u4f20\u4e0b\u8f7d\u7684\u6587\u4ef6\u5230cloud-object-storage\n</p>\n<p style=\"text-indent: 2em; font-family: \u5fae\u8f6f\u96c5\u9ed1; FONT-SIZE: 100%; COLOR: #191919; line-height: 1.5em;\">\n<strong> \u6ce8\uff1a\u5982\u679c\u4f7f\u7528\u7b2c\u4e00\u79cd\u65b9\u5f0f\uff0c\u4e0d\u6267\u884c\u4e0b\u9762cell</strong>\n</p>", 
            "cell_type": "markdown", 
            "metadata": {}
        }, 
        {
            "execution_count": 4, 
            "cell_type": "code", 
            "metadata": {}, 
            "outputs": [], 
            "source": "body2 = client_manual.upload_file(filename, Bucket=BUCKET,Key='bankloan.csv')"
        }, 
        {
            "source": "### 1.2 \u5bfc\u5165\u6570\u636e\u96c6\n<p style=\"text-indent: 2em; font-family: \u5fae\u8f6f\u96c5\u9ed1; FONT-SIZE: 100%; COLOR: #191919; line-height: 1.5em;\">\n\u628a\u7126\u70b9\u653e\u5230\u4e0b\u4fa7cell\uff0c\u70b9\u51fb\u53f3\u4e0a\u89d2\"Data\"\u56fe\u6807\uff0c\u5728\u53f3\u4e0b\u4fa7\u9009\u62e9bankloan.csv\u7684\"Insert to code\"\u4e2d\"Insert SparkSession DataFrame\"\n</p>\n<p style=\"text-indent: 2em; font-family: \u5fae\u8f6f\u96c5\u9ed1; FONT-SIZE: 100%; COLOR: #191919; line-height: 1.5em;\">\n<strong>\u6ce8\uff1a\u5982\u679c\u91c7\u75281.1b\u7a0b\u5e8f\u4e0b\u8f7d\u5e76\u5bfc\u5165\u65b9\u5f0f\uff0c\u8bf7\u91cd\u65b0\u5237\u65b0\u672c\u9879\u76ee\uff0c\u5e76\u5c06\u6587\u4ef6\u52a0\u5165\u6570\u636e\u96c6\uff0c\u624d\u80fd\u770b\u5230\u8be5\u6587\u4ef6</strong>\n</p>", 
            "cell_type": "markdown", 
            "metadata": {}
        }, 
        {
            "execution_count": 6, 
            "cell_type": "code", 
            "metadata": {}, 
            "outputs": [
                {
                    "execution_count": 6, 
                    "metadata": {}, 
                    "data": {
                        "text/plain": "[Row(age='41', ed='3', employ='17', address='12', income='176.000', debtinc='9.300', creddebt='11.359', othdebt='5.009', default='1'),\n Row(age='27', ed='1', employ='10', address='6', income='31.000', debtinc='17.300', creddebt='1.362', othdebt='4.001', default='0'),\n Row(age='40', ed='1', employ='15', address='14', income='55.000', debtinc='5.500', creddebt='0.856', othdebt='2.169', default='0'),\n Row(age='41', ed='1', employ='15', address='14', income='120.000', debtinc='2.900', creddebt='2.659', othdebt='0.821', default='0'),\n Row(age='24', ed='2', employ='2', address='0', income='28.000', debtinc='17.300', creddebt='1.787', othdebt='3.057', default='1')]"
                    }, 
                    "output_type": "execute_result"
                }
            ], 
            "source": "# The code was removed by DSX for sharing."
        }, 
        {
            "source": "<p style=\"text-indent: 2em; font-family: \u5fae\u8f6f\u96c5\u9ed1; FONT-SIZE: 100%; COLOR: #191919; line-height: 1.5em;\">\n\u4fee\u6539DataFrame\u540d\u5b57\n</p>\n", 
            "cell_type": "markdown", 
            "metadata": {}
        }, 
        {
            "execution_count": 8, 
            "cell_type": "code", 
            "metadata": {}, 
            "outputs": [], 
            "source": "df_loan = df_data_5"
        }, 
        {
            "source": "## 2. \u7406\u89e3\u6570\u636e", 
            "cell_type": "markdown", 
            "metadata": {}
        }, 
        {
            "source": "<p style=\"text-indent: 2em; font-family: \u5fae\u8f6f\u96c5\u9ed1; FONT-SIZE: 100%; COLOR: #191919; line-height: 1.5em;\">\n\u5efa\u6a21\uff0c\u9996\u5148\u8981\u7406\u89e3\u6570\u636e\u5404\u4e2a\u7279\u5f81\u7684\u4e1a\u52a1\u542b\u4e49\u548c\u5177\u4f53\u5206\u5e03\u3001\u8d28\u91cf\u7b49\u60c5\u51b5\u3002\u8fd9\u91cc\uff0c\u7b80\u5355\u5bf9\u6570\u636e\u96c6\u8fdb\u884c\u64cd\u4f5c\u548c\u63a2\u7a76\u6570\u636e\u7279\u70b9\u3002\n</p>\n<p style=\"text-indent: 2em; font-family: \u5fae\u8f6f\u96c5\u9ed1; FONT-SIZE: 100%; COLOR: #191919; line-height: 1.5em;\">\n\u5728\u8fd9\u4e2a\u9636\u6bb5\uff0c\u9664\u4e86\u53c2\u4e0e\u5efa\u6a21\u7684\u4e1a\u52a1\u5206\u6790\u5e08\u548c\u6570\u636e\u79d1\u5b66\u5bb6\u7406\u89e3\u6570\u636e\uff0c\u6570\u636e\u5de5\u7a0b\u5e08\u4e5f\u4f1a\u5bf9\u6570\u636e\u8fdb\u884c\u5904\u7406\uff0c\u5f62\u6210\u6700\u7ec8\u9ad8\u8d28\u91cf\u7b26\u5408\u8981\u6c42\u7684\u6570\u636e\u96c6\u3002\n</p>\n<ol>\n    <li>age: \u5ba2\u6237\u5e74\u9f84</li>\n    <li>ed: \u6559\u80b2\u7a0b\u5ea6(1,2,3...)</li>\n    <li>employ: \u5de5\u4f5c\u5e74\u9650</li>\n    <li>address: \u6b64\u5730\u5740\u5c45\u4f4f\u5e74\u9650</li>\n    <li>income: \u5ba2\u6237\u5e74\u6536\u5165(\u5355\u4f4d\u5343\u7f8e\u5143)</li>\n    <li>debtinc: \u8d1f\u503a\u6536\u5165\u6bd4\u4f8b(%)</li>\n    <li>creddebt: \u4fe1\u7528\u5361\u8d1f\u503a\u6536\u5165\u6bd4\u4f8b(%)</li>\n    <li>othdebt: \u5176\u5b83\u8d1f\u503a\u6536\u5165\u6bd4\u4f8b(%)</li>\n    <li>default: \u662f\u5426\u8fdd\u7ea6(1-\u662f\uff0c0-\u5426)</li>\n</ol>", 
            "cell_type": "markdown", 
            "metadata": {}
        }, 
        {
            "source": "### 2.1 \u6570\u636e\u57fa\u672c\u60c5\u51b5\u5206\u6790\n<p style=\"text-indent: 2em; font-family: \u5fae\u8f6f\u96c5\u9ed1; FONT-SIZE: 100%; COLOR: #191919; line-height: 1.5em;\">\n\u6570\u636e\u683c\u5f0f\u663e\u793a\n</p>\n", 
            "cell_type": "markdown", 
            "metadata": {}
        }, 
        {
            "execution_count": 9, 
            "cell_type": "code", 
            "metadata": {}, 
            "outputs": [
                {
                    "output_type": "stream", 
                    "name": "stdout", 
                    "text": "root\n |-- age: string (nullable = true)\n |-- ed: string (nullable = true)\n |-- employ: string (nullable = true)\n |-- address: string (nullable = true)\n |-- income: string (nullable = true)\n |-- debtinc: string (nullable = true)\n |-- creddebt: string (nullable = true)\n |-- othdebt: string (nullable = true)\n |-- default: string (nullable = true)\n\n"
                }
            ], 
            "source": "df_loan.printSchema()"
        }, 
        {
            "source": "<p style=\"text-indent: 2em; font-family: \u5fae\u8f6f\u96c5\u9ed1; FONT-SIZE: 100%; COLOR: #191919; line-height: 1.5em;\">\n\u663e\u793a\u6570\u636e\u7684\u5185\u5bb9\uff0c\u5927\u81f4\u76f4\u89c2\u7406\u89e3\u6570\u636e\u5b57\u6bb5(\u7279\u5f81)\u7684\u7c7b\u578b\u53ca\u5b9e\u9645\u60c5\u51b5\u3002\n</p>", 
            "cell_type": "markdown", 
            "metadata": {}
        }, 
        {
            "execution_count": 11, 
            "cell_type": "code", 
            "metadata": {}, 
            "outputs": [
                {
                    "output_type": "stream", 
                    "name": "stdout", 
                    "text": "+---+---+------+-------+-------+-------+--------+-------+-------+\n|age| ed|employ|address| income|debtinc|creddebt|othdebt|default|\n+---+---+------+-------+-------+-------+--------+-------+-------+\n| 41|  3|    17|     12|176.000|  9.300|  11.359|  5.009|      1|\n| 27|  1|    10|      6| 31.000| 17.300|   1.362|  4.001|      0|\n| 40|  1|    15|     14| 55.000|  5.500|   0.856|  2.169|      0|\n| 41|  1|    15|     14|120.000|  2.900|   2.659|  0.821|      0|\n| 24|  2|     2|      0| 28.000| 17.300|   1.787|  3.057|      1|\n| 41|  2|     5|      5| 25.000| 10.200|   0.393|  2.157|      0|\n| 39|  1|    20|      9| 67.000| 30.600|   3.834| 16.668|      0|\n| 43|  1|    12|     11| 38.000|  3.600|   0.129|  1.239|      0|\n| 24|  1|     3|      4| 19.000| 24.400|   1.358|  3.278|      1|\n| 36|  1|     0|     13| 25.000| 19.700|   2.778|  2.147|      0|\n| 27|  1|     0|      1| 16.000|  1.700|   0.183|  0.089|      0|\n| 25|  1|     4|      0| 23.000|  5.200|   0.252|  0.944|      0|\n| 52|  1|    24|     14| 64.000| 10.000|   3.930|  2.470|      0|\n| 37|  1|     6|      9| 29.000| 16.300|   1.716|  3.011|      0|\n| 48|  1|    22|     15|100.000|  9.100|   3.704|  5.396|      0|\n| 36|  2|     9|      6| 49.000|  8.600|   0.818|  3.396|      1|\n| 36|  2|    13|      6| 41.000| 16.400|   2.918|  3.806|      1|\n| 43|  1|    23|     19| 72.000|  7.600|   1.182|  4.290|      0|\n| 39|  1|     6|      9| 61.000|  5.700|   0.563|  2.914|      0|\n| 41|  3|     0|     21| 26.000|  1.700|   0.099|  0.343|      0|\n+---+---+------+-------+-------+-------+--------+-------+-------+\nonly showing top 20 rows\n\n"
                }
            ], 
            "source": "df_loan.show()"
        }, 
        {
            "source": "<p style=\"text-indent: 2em; font-family: \u5fae\u8f6f\u96c5\u9ed1; FONT-SIZE: 100%; COLOR: #191919; line-height: 1.5em;\">\n\u8ba1\u7b97\u6570\u636e\u96c6\u8bb0\u5f55\u6570\u3002\n</p>\n", 
            "cell_type": "markdown", 
            "metadata": {}
        }, 
        {
            "execution_count": 12, 
            "cell_type": "code", 
            "metadata": {}, 
            "outputs": [
                {
                    "execution_count": 12, 
                    "metadata": {}, 
                    "data": {
                        "text/plain": "850"
                    }, 
                    "output_type": "execute_result"
                }
            ], 
            "source": "df_loan.count()"
        }, 
        {
            "source": "<p style=\"text-indent: 2em; font-family: \u5fae\u8f6f\u96c5\u9ed1; FONT-SIZE: 100%; COLOR: #191919; line-height: 1.5em;\">\n\u67e5\u770b\u6807\u6ce8\u60c5\u51b5\uff0c\u8fdd\u7ea6\u6807\u6ce8\u662f\u5426\u6709\u5f02\u5e38\u503c\u3002\n</p>\n", 
            "cell_type": "markdown", 
            "metadata": {}
        }, 
        {
            "execution_count": 13, 
            "cell_type": "code", 
            "metadata": {}, 
            "outputs": [
                {
                    "output_type": "stream", 
                    "name": "stdout", 
                    "text": "+---+---+------+-------+-------+-------+--------+-------+-------+\n|age| ed|employ|address| income|debtinc|creddebt|othdebt|default|\n+---+---+------+-------+-------+-------+--------+-------+-------+\n| 36|  1|    16|     13| 32.000| 10.900|   0.544|  2.944| $null$|\n| 50|  1|     6|     27| 21.000| 12.900|   1.317|  1.392| $null$|\n| 40|  1|     9|      9| 33.000| 17.000|   4.881|  0.729| $null$|\n| 31|  1|     5|      7| 23.000|  2.000|   0.046|  0.414| $null$|\n| 29|  1|     4|      0| 24.000|  7.800|   0.867|  1.005| $null$|\n| 25|  2|     1|      3| 14.000|  9.900|   0.233|  1.153| $null$|\n| 34|  1|     4|      3| 28.000|  9.400|   1.058|  1.574| $null$|\n| 50|  1|    30|      8|150.000| 32.500|  13.553| 35.197| $null$|\n| 27|  1|     5|      5| 26.000|  1.200|   0.130|  0.182| $null$|\n| 31|  4|     7|     12| 97.000|  6.000|   1.827|  3.993| $null$|\n| 45|  1|     8|     25| 27.000|  2.600|   0.416|  0.286| $null$|\n| 35|  1|    10|      8| 28.000|  1.300|   0.110|  0.254| $null$|\n| 47|  2|    27|      7|107.000|  6.100|   1.638|  4.889| $null$|\n| 50|  3|    25|      7| 94.000|  5.300|   1.734|  3.248| $null$|\n| 37|  2|    15|     11|108.000| 11.800|   5.251|  7.493| $null$|\n| 46|  1|     7|      6| 41.000| 23.400|   0.585|  9.009| $null$|\n| 26|  4|     1|      5| 92.000| 13.000|   6.506|  5.454| $null$|\n| 33|  1|    16|     12| 46.000|  8.100|   2.400|  1.326| $null$|\n| 43|  1|     8|      0| 32.000| 19.000|   1.234|  4.846| $null$|\n| 49|  2|    14|     26| 63.000| 15.800|   0.936|  9.018| $null$|\n+---+---+------+-------+-------+-------+--------+-------+-------+\nonly showing top 20 rows\n\n"
                }
            ], 
            "source": "df_loan.where((df_loan['default'] != '1') & (df_loan['default'] != '0')).show()"
        }, 
        {
            "source": "<p style=\"text-indent: 2em; font-family: \u5fae\u8f6f\u96c5\u9ed1; FONT-SIZE: 100%; COLOR: #191919; line-height: 1.5em;\">\n\u6570\u636e\u96c6\u6709\u6570\u636e\u6ca1\u6709\u6807\u6ce8\uff0c\u8fd9\u90e8\u5206\u6570\u636e\u65e0\u6cd5\u8fdb\u884c\u8bad\u7ec3\u548c\u9a8c\u8bc1\uff0c\u56e0\u6b64\u4f1a\u53bb\u5904\u3002\u7b80\u5355\u8ba1\u7b97\u6b64\u8bb0\u5f55\u6570\u91cf\u3002\n</p>\n", 
            "cell_type": "markdown", 
            "metadata": {}
        }, 
        {
            "execution_count": 14, 
            "cell_type": "code", 
            "metadata": {}, 
            "outputs": [
                {
                    "execution_count": 14, 
                    "metadata": {}, 
                    "data": {
                        "text/plain": "150"
                    }, 
                    "output_type": "execute_result"
                }
            ], 
            "source": "df_loan.where((df_loan['default'] != '1') & (df_loan['default'] != '0')).count()"
        }, 
        {
            "source": "<p style=\"text-indent: 2em; font-family: \u5fae\u8f6f\u96c5\u9ed1; FONT-SIZE: 100%; COLOR: #191919; line-height: 1.5em;\">\n\u628a\u6709\u6807\u6ce8\u7684\u6570\u636e\u91cd\u65b0\u5b9a\u4e49\u4e00\u4e2a\u6570\u636e\u96c6\uff0c\u4ee5\u8fdb\u884c\u66f4\u591a\u64cd\u4f5c\u3002\n</p>\n", 
            "cell_type": "markdown", 
            "metadata": {}
        }, 
        {
            "execution_count": 15, 
            "cell_type": "code", 
            "metadata": {}, 
            "outputs": [], 
            "source": "df_loan_labeled = df_loan.where((df_loan['default'] == '1') | (df_loan['default'] == '0'))"
        }, 
        {
            "execution_count": 16, 
            "cell_type": "code", 
            "metadata": {}, 
            "outputs": [
                {
                    "output_type": "stream", 
                    "name": "stdout", 
                    "text": "+---+---+------+-------+-------+-------+--------+-------+-------+\n|age| ed|employ|address| income|debtinc|creddebt|othdebt|default|\n+---+---+------+-------+-------+-------+--------+-------+-------+\n| 41|  3|    17|     12|176.000|  9.300|  11.359|  5.009|      1|\n| 27|  1|    10|      6| 31.000| 17.300|   1.362|  4.001|      0|\n| 40|  1|    15|     14| 55.000|  5.500|   0.856|  2.169|      0|\n| 41|  1|    15|     14|120.000|  2.900|   2.659|  0.821|      0|\n| 24|  2|     2|      0| 28.000| 17.300|   1.787|  3.057|      1|\n+---+---+------+-------+-------+-------+--------+-------+-------+\nonly showing top 5 rows\n\n"
                }
            ], 
            "source": "df_loan_labeled.show(5)"
        }, 
        {
            "execution_count": 17, 
            "cell_type": "code", 
            "metadata": {}, 
            "outputs": [
                {
                    "execution_count": 17, 
                    "metadata": {}, 
                    "data": {
                        "text/plain": "700"
                    }, 
                    "output_type": "execute_result"
                }
            ], 
            "source": "df_loan_labeled.count()"
        }, 
        {
            "source": "<p style=\"text-indent: 2em; font-family: \u5fae\u8f6f\u96c5\u9ed1; FONT-SIZE: 100%; COLOR: #191919; line-height: 1.5em;\">\n\u7531\u4e8e\u6570\u636e\u96c6\u8bfb\u5165\u540e\u5168\u90e8\u4f5c\u4e3a\u5b57\u7b26\u4e32\uff0c\u56e0\u6b64\u9700\u8981\u8f6c\u6362\u4e3a\u76f8\u5e94\u7c7b\u578b\u3002\u6709\u591a\u79cd\u8f6c\u6362\u65b9\u6cd5\uff0c\u8fd9\u91cc\u91c7\u7528\u901a\u8fc7panda\u7684sastype\u529f\u80fd\u3002\n</p>\n", 
            "cell_type": "markdown", 
            "metadata": {}
        }, 
        {
            "execution_count": 18, 
            "cell_type": "code", 
            "metadata": {}, 
            "outputs": [], 
            "source": "df_pd = df_loan_labeled.toPandas().astype({'age':'int', \n                                            'ed':'int', \n                                           'employ': 'int', \n                                           'address': 'int', \n                                           'income': 'float', \n                                           'debtinc': 'float', \n                                           'creddebt': 'float', \n                                           'othdebt': 'float', \n                                           'default': 'int' \n                                        })"
        }, 
        {
            "source": "### 2.2 \u6570\u636e\u96c6\u7edf\u8ba1\u4fe1\u606f\u5206\u6790\n<p style=\"text-indent: 2em; font-family: \u5fae\u8f6f\u96c5\u9ed1; FONT-SIZE: 100%; COLOR: #191919; line-height: 1.5em;\">\n\u5c55\u73b0\u6570\u636e\u96c6\u7684\u7edf\u8ba1\u4fe1\u606f\uff0c\u4f7f\u7528pandas dataframe\u7684\u7edf\u8ba1\u51fd\u6570\uff0c\u6b64\u51fd\u6570\u4e0espark\u7edf\u8ba1\u51fd\u6570\u6709\u4e00\u5b9a\u5dee\u5f02\u3002\n</p>\n", 
            "cell_type": "markdown", 
            "metadata": {}
        }, 
        {
            "execution_count": 19, 
            "cell_type": "code", 
            "metadata": {
                "scrolled": true
            }, 
            "outputs": [
                {
                    "execution_count": 19, 
                    "metadata": {}, 
                    "data": {
                        "text/html": "<div>\n<style scoped>\n    .dataframe tbody tr th:only-of-type {\n        vertical-align: middle;\n    }\n\n    .dataframe tbody tr th {\n        vertical-align: top;\n    }\n\n    .dataframe thead th {\n        text-align: right;\n    }\n</style>\n<table border=\"1\" class=\"dataframe\">\n  <thead>\n    <tr style=\"text-align: right;\">\n      <th></th>\n      <th>age</th>\n      <th>ed</th>\n      <th>employ</th>\n      <th>address</th>\n      <th>income</th>\n      <th>debtinc</th>\n      <th>creddebt</th>\n      <th>othdebt</th>\n      <th>default</th>\n    </tr>\n  </thead>\n  <tbody>\n    <tr>\n      <th>count</th>\n      <td>700.000000</td>\n      <td>700.000000</td>\n      <td>700.000000</td>\n      <td>700.000000</td>\n      <td>700.000000</td>\n      <td>700.000000</td>\n      <td>700.000000</td>\n      <td>700.000000</td>\n      <td>700.000000</td>\n    </tr>\n    <tr>\n      <th>mean</th>\n      <td>34.860000</td>\n      <td>1.722857</td>\n      <td>8.388571</td>\n      <td>8.278571</td>\n      <td>45.601429</td>\n      <td>10.260571</td>\n      <td>1.553569</td>\n      <td>3.058196</td>\n      <td>0.261429</td>\n    </tr>\n    <tr>\n      <th>std</th>\n      <td>7.997342</td>\n      <td>0.928206</td>\n      <td>6.658039</td>\n      <td>6.824877</td>\n      <td>36.814226</td>\n      <td>6.827234</td>\n      <td>2.117195</td>\n      <td>3.287548</td>\n      <td>0.439727</td>\n    </tr>\n    <tr>\n      <th>min</th>\n      <td>20.000000</td>\n      <td>1.000000</td>\n      <td>0.000000</td>\n      <td>0.000000</td>\n      <td>14.000000</td>\n      <td>0.400000</td>\n      <td>0.012000</td>\n      <td>0.046000</td>\n      <td>0.000000</td>\n    </tr>\n    <tr>\n      <th>25%</th>\n      <td>29.000000</td>\n      <td>1.000000</td>\n      <td>3.000000</td>\n      <td>3.000000</td>\n      <td>24.000000</td>\n      <td>5.000000</td>\n      <td>0.368750</td>\n      <td>1.044000</td>\n      <td>0.000000</td>\n    </tr>\n    <tr>\n      <th>50%</th>\n      <td>34.000000</td>\n      <td>1.000000</td>\n      <td>7.000000</td>\n      <td>7.000000</td>\n      <td>34.000000</td>\n      <td>8.600000</td>\n      <td>0.855000</td>\n      <td>1.987500</td>\n      <td>0.000000</td>\n    </tr>\n    <tr>\n      <th>75%</th>\n      <td>40.000000</td>\n      <td>2.000000</td>\n      <td>12.000000</td>\n      <td>12.000000</td>\n      <td>55.000000</td>\n      <td>14.125000</td>\n      <td>1.901750</td>\n      <td>3.923250</td>\n      <td>1.000000</td>\n    </tr>\n    <tr>\n      <th>max</th>\n      <td>56.000000</td>\n      <td>5.000000</td>\n      <td>31.000000</td>\n      <td>34.000000</td>\n      <td>446.000000</td>\n      <td>41.300000</td>\n      <td>20.561000</td>\n      <td>27.034000</td>\n      <td>1.000000</td>\n    </tr>\n  </tbody>\n</table>\n</div>", 
                        "text/plain": "              age          ed      employ     address      income     debtinc  \\\ncount  700.000000  700.000000  700.000000  700.000000  700.000000  700.000000   \nmean    34.860000    1.722857    8.388571    8.278571   45.601429   10.260571   \nstd      7.997342    0.928206    6.658039    6.824877   36.814226    6.827234   \nmin     20.000000    1.000000    0.000000    0.000000   14.000000    0.400000   \n25%     29.000000    1.000000    3.000000    3.000000   24.000000    5.000000   \n50%     34.000000    1.000000    7.000000    7.000000   34.000000    8.600000   \n75%     40.000000    2.000000   12.000000   12.000000   55.000000   14.125000   \nmax     56.000000    5.000000   31.000000   34.000000  446.000000   41.300000   \n\n         creddebt     othdebt     default  \ncount  700.000000  700.000000  700.000000  \nmean     1.553569    3.058196    0.261429  \nstd      2.117195    3.287548    0.439727  \nmin      0.012000    0.046000    0.000000  \n25%      0.368750    1.044000    0.000000  \n50%      0.855000    1.987500    0.000000  \n75%      1.901750    3.923250    1.000000  \nmax     20.561000   27.034000    1.000000  "
                    }, 
                    "output_type": "execute_result"
                }
            ], 
            "source": "df_pd.describe()"
        }, 
        {
            "source": "<p style=\"text-indent: 2em; font-family: \u5fae\u8f6f\u96c5\u9ed1; FONT-SIZE: 100%; COLOR: #191919; line-height: 1.5em;\">\n\u4e3a\u4e86\u4fbf\u4e8e\u64cd\u4f5c\uff0c\u518d\u6b21\u8f6c\u6362\u4e3aspark DataFrame\u3002\n</p>\n", 
            "cell_type": "markdown", 
            "metadata": {}
        }, 
        {
            "execution_count": 20, 
            "cell_type": "code", 
            "metadata": {}, 
            "outputs": [], 
            "source": "sparkDF = spark.createDataFrame(df_pd)"
        }, 
        {
            "source": "<p style=\"text-indent: 2em; font-family: \u5fae\u8f6f\u96c5\u9ed1; FONT-SIZE: 100%; COLOR: #191919; line-height: 1.5em;\">\n\u53ef\u4ee5\u4e0e\u4e0a\u9762pandas\u7684\u7edf\u8ba1\u51fd\u6570\u5bf9\u7167\uff0cspark\u7edf\u8ba1\u7ed3\u679c\u7f3a\u5c11\u4e2d\u4f4d\u6570\u3001\u56db\u5206\u4f4d\u6570\u7b49\u6307\u6807\u3002\n</p>\n", 
            "cell_type": "markdown", 
            "metadata": {}
        }, 
        {
            "execution_count": 22, 
            "cell_type": "code", 
            "metadata": {}, 
            "outputs": [
                {
                    "output_type": "stream", 
                    "name": "stdout", 
                    "text": "+-------+----------+----------+----------+----------+----------+----------+----------+----------+----------+\n|summary|       age|        ed|    employ|   address|    income|   debtinc|  creddebt|   othdebt|   default|\n+-------+----------+----------+----------+----------+----------+----------+----------+----------+----------+\n|  count|       700|       700|       700|       700|       700|       700|       700|       700|       700|\n|   mean|     34.86|1.72285...|8.38857...|8.27857...|45.6014...|10.2605...|1.55356...|3.05819...|0.26142...|\n| stddev|7.99734...|0.92820...|6.65803...|6.82487...|36.8142...|6.82723...|2.11719...|3.28754...|0.43972...|\n|    min|        20|         1|         0|         0|      14.0|       0.4|     0.012|     0.046|         0|\n|    max|        56|         5|        31|        34|     446.0|      41.3|    20.561|    27.034|         1|\n+-------+----------+----------+----------+----------+----------+----------+----------+----------+----------+\n\n"
                }
            ], 
            "source": "sparkDF.describe().show(truncate=10)"
        }, 
        {
            "source": "<p style=\"text-indent: 2em; font-family: \u5fae\u8f6f\u96c5\u9ed1; FONT-SIZE: 100%; COLOR: #191919; line-height: 1.5em;\">\n\u7406\u89e3\u6570\u636e\u5206\u5e03\u540e\uff0c\u5bf9\u76ee\u6807\u7684\u5173\u8054\u6027\u4e5f\u53ef\u4ee5\u8fdb\u884c\u89c2\u5bdf\uff0c\u4f7f\u7528\u5404\u7279\u5f81\u4e0e\u6807\u6ce8\u7684\u76f8\u5173\u7cfb\u6570\u5e2e\u52a9\u7406\u89e3\u5176\u4e1a\u52a1\u5173\u8054\u6027\u3002\u4ece\u800c\u786e\u5b9a\u662f\u5426\u9009\u62e9\u4f5c\u4e3a\u5efa\u6a21\u7279\u5f81\u3002\n</p>\n", 
            "cell_type": "markdown", 
            "metadata": {}
        }, 
        {
            "execution_count": 23, 
            "cell_type": "code", 
            "metadata": {}, 
            "outputs": [
                {
                    "output_type": "stream", 
                    "name": "stdout", 
                    "text": "Correlation between  age \tand default:  -0.1376571021137141\nCorrelation between  ed \tand default:  0.11467555101615441\nCorrelation between  employ \tand default:  -0.28297839296551097\nCorrelation between  address \tand default:  -0.16445115872803867\nCorrelation between  income \tand default:  -0.07096965661922316\nCorrelation between  debtinc \tand default:  0.3895747597177062\nCorrelation between  creddebt \tand default:  0.24473355926616536\nCorrelation between  othdebt \tand default:  0.14571646915013933\n"
                }
            ], 
            "source": "cols = sparkDF.columns\nfor col in cols:\n    if col != 'default':\n        print(\"Correlation between \", col ,\"\\tand default: \",sparkDF.corr(col, 'default'))\n        "
        }, 
        {
            "source": "### 2.3 \u56fe\u5f62\u5316\u5206\u6790\u6570\u636e\n<p style=\"text-indent: 2em; font-family: \u5fae\u8f6f\u96c5\u9ed1; FONT-SIZE: 100%; COLOR: #191919; line-height: 1.5em;\">\n\u4f7f\u7528\u56fe\u5f62\u80fd\u591f\u5e2e\u52a9\u66f4\u597d\u5730\u7406\u89e3\u6570\u636e\uff0c\u8868\u8fbe\u6570\u636e\u95f4\u5173\u7cfb\u3002\u8fd9\u91cc\u4f7f\u7528\u76f4\u65b9\u56fe\u6765\u7406\u89e3\u5728\u8fdd\u7ea6\u4eba\u7fa4\u4e2d\u548c\u975e\u8fdd\u7ea6\u4eba\u7fa4\u4e2d\u7684\u5206\u5e03\u60c5\u51b5\u3002\n</p>\n", 
            "cell_type": "markdown", 
            "metadata": {}
        }, 
        {
            "execution_count": 24, 
            "cell_type": "code", 
            "metadata": {}, 
            "outputs": [], 
            "source": "from matplotlib import pyplot as plt\n\nx = sparkDF.filter(sparkDF['default'] == '0').select('age').rdd.map(lambda x: x[0]).collect()\ny = sparkDF.filter(sparkDF['default'] == '1').select('age').rdd.map(lambda x: x[0]).collect()"
        }, 
        {
            "execution_count": 25, 
            "cell_type": "code", 
            "metadata": {}, 
            "outputs": [
                {
                    "output_type": "display_data", 
                    "data": {
                        "image/png": "[encoded data removed]", 
                        "text/plain": "<matplotlib.figure.Figure at 0x7fbe7cbb8eb8>"
                    }, 
                    "metadata": {}
                }
            ], 
            "source": "plt.hist(x, bins=10, normed=True, alpha=0.5, label='not default')\nplt.hist(y, bins=10, normed=True, alpha=0.5, label='default')\nplt.legend(loc='upper right')\nplt.show()"
        }, 
        {
            "source": "<p style=\"text-indent: 2em; font-family: \u5fae\u8f6f\u96c5\u9ed1; FONT-SIZE: 100%; COLOR: #191919; line-height: 1.5em;\">\n\u4ee5\u4e0a\u56fe\u5f62\uff0c\u5927\u6982\u53ef\u4ee5\u770b\u51fa\u8fdd\u7ea6\u4eba\u7fa4\u4e2d\u5e74\u8f7b\u4eba\u66f4\u591a\uff0c\u800c\u975e\u8fdd\u7ea6\u4eba\u7fa4\u8d37\u6b3e\u8f83\u4e3a\u5408\u7406\uff0c\u4e2d\u5e74\u4eba\u5c45\u591a\u3002\n</p>\n<p style=\"text-indent: 2em; font-family: \u5fae\u8f6f\u96c5\u9ed1; FONT-SIZE: 100%; COLOR: #191919; line-height: 1.5em;\">\n\u8fdb\u4e00\u6b65\uff0c\u5728\u4e0d\u540c\u5e74\u9f84\u6bb5\u4e5f\u5927\u81f4\u53ef\u4ee5\u770b\u51fa\u5c0f\u4e8e30\u5c81\u5e74\u8f7b\u4eba\u7684\u8fdd\u7ea6\u6982\u7387\u9ad8\u4e8e\u975e\u8fdd\u7ea6\u6982\u7387\u3002\u53e6\u5916\u572854\u300155\u5c81\u5de6\u53f3\u8fdd\u7ea6\u7684\u6982\u7387\u518d\u6b21\u8d85\u8fc7\u975e\u8fdd\u7ea6\u6982\u7387\u3002\n</p>\n", 
            "cell_type": "markdown", 
            "metadata": {}
        }, 
        {
            "source": "<strong>\u52a8\u624b\u5b9e\u8df5\u73af\u8282\uff1a\n\u56fe\u5f62\u5c55\u73b0\u5728\u8fdd\u7ea6\u4e0e\u4e0d\u8fdd\u7ea6\u60c5\u51b5\u4e0b\u8d1f\u503a\u6536\u5165\u6bd4\u7684\u76f4\u65b9\u56fe(\u6982\u7387\u5bc6\u5ea6)\uff0c\u5e76\u7406\u89e3\u8d1f\u503a\u6536\u5165\u4e0e\u8fdd\u7ea6\u7684\u5173\u7cfb\n</strong>", 
            "cell_type": "markdown", 
            "metadata": {}
        }, 
        {
            "execution_count": null, 
            "cell_type": "code", 
            "metadata": {}, 
            "outputs": [], 
            "source": ""
        }, 
        {
            "source": "### 2.4 \u4f7f\u7528SQL\u8bed\u53e5\u5206\u6790\u6570\u636e\u96c6", 
            "cell_type": "markdown", 
            "metadata": {}
        }, 
        {
            "execution_count": 26, 
            "cell_type": "code", 
            "metadata": {}, 
            "outputs": [], 
            "source": "sparkDF.createOrReplaceTempView(\"bankloan\")"
        }, 
        {
            "execution_count": 27, 
            "cell_type": "code", 
            "metadata": {}, 
            "outputs": [
                {
                    "output_type": "stream", 
                    "name": "stdout", 
                    "text": "+-------+-------------+\n|default|count(income)|\n+-------+-------------+\n|      0|          517|\n|      1|          183|\n+-------+-------------+\n\n"
                }
            ], 
            "source": "spark.sql(\"select default, count(income) from bankloan group by default\").show()"
        }, 
        {
            "execution_count": 28, 
            "cell_type": "code", 
            "metadata": {}, 
            "outputs": [
                {
                    "output_type": "stream", 
                    "name": "stdout", 
                    "text": "+-------+-------------+\n|default|count(income)|\n+-------+-------------+\n|      0|          140|\n|      1|           32|\n+-------+-------------+\n\n"
                }
            ], 
            "source": "spark.sql(\"select default, count(income) from bankloan where income > 55 group by default\").show()"
        }, 
        {
            "execution_count": 29, 
            "cell_type": "code", 
            "metadata": {}, 
            "outputs": [
                {
                    "output_type": "stream", 
                    "name": "stdout", 
                    "text": "+-------+----------+----------+----------+----------+----------+----------+----------+----------+----------+\n|summary|       age|        ed|    employ|   address|    income|   debtinc|  creddebt|   othdebt|   default|\n+-------+----------+----------+----------+----------+----------+----------+----------+----------+----------+\n|  count|       172|       172|       172|       172|       172|       172|       172|       172|       172|\n|   mean|41.1279...|       2.0|15.1802...|11.5523...|91.9825...|10.5063...|3.24314...|6.01431...|0.18604...|\n| stddev|6.62230...|1.01451...|6.62416...|7.67868...|48.2277...|7.09821...|3.35091...|4.76842...|0.39028...|\n|    min|        27|         1|         0|         0|      56.0|       0.4|     0.159|     0.188|         0|\n|    max|        56|         5|        31|        34|     446.0|      41.3|    20.561|    27.034|         1|\n+-------+----------+----------+----------+----------+----------+----------+----------+----------+----------+\n\n"
                }
            ], 
            "source": "spark.sql(\"select * from bankloan where income > 55\").describe().show(truncate=10)"
        }, 
        {
            "source": "### 2.5 \u5b8c\u6210\u6570\u636e\u51c6\u5907\uff0c\u4fdd\u5b58\u4e3a\u6570\u636e\u96c6\uff0c\u4f9b\u5efa\u6a21\u4eba\u5458\u4f7f\u7528", 
            "cell_type": "markdown", 
            "metadata": {}
        }, 
        {
            "source": "<p style=\"text-indent: 2em; font-family: \u5fae\u8f6f\u96c5\u9ed1; FONT-SIZE: 100%; COLOR: #191919; line-height: 1.5em;\">\n\u4fdd\u5b58\u4e3a\u4e00\u4e2a\u6570\u636e\u6587\u4ef6\uff0c\u4f9b\u4e0b\u4e00\u9636\u6bb5\u6216\u8005\u5171\u4eab\u7ed9\u5176\u4ed6\u4eba\u4f7f\u7528\u3002\n</p>\n<strong>\u6ce8\u610f\uff1a\u63a5\u53e3\u64cd\u4f5c\u51fd\u6570\uff0c\u4fee\u6539\u4e3a\u76f8\u5e94\u7684\u540d\u79f0</strong>", 
            "cell_type": "markdown", 
            "metadata": {}
        }, 
        {
            "execution_count": 30, 
            "cell_type": "code", 
            "metadata": {}, 
            "outputs": [], 
            "source": "import io\n\ncsvString = sparkDF.toPandas().to_csv(index=None)\nbody2 = client_manual.upload_fileobj(io.BytesIO(csvString.encode()), Bucket=BUCKET,Key='bankloan_edit.csv')"
        }, 
        {
            "source": "## 3. \u5efa\u6a21\u9636\u6bb5", 
            "cell_type": "markdown", 
            "metadata": {}
        }, 
        {
            "execution_count": 31, 
            "cell_type": "code", 
            "metadata": {}, 
            "outputs": [], 
            "source": "from pyspark.sql.types import *\nsm = StructType([\n    StructField(\"age\", IntegerType(), True),\n    StructField(\"ed\", IntegerType(), True),\n    StructField(\"employ\", IntegerType(), True),\n    StructField(\"address\", IntegerType(), True),\n    StructField(\"income\", FloatType(), True),\n    StructField(\"debtinc\", FloatType(), True),\n    StructField(\"creddebt\", FloatType(), True),\n    StructField(\"othdebt\", FloatType(), True),\n    StructField(\"default\", IntegerType(), True)])"
        }, 
        {
            "source": "### 3.1 \u8bfb\u5165\u51c6\u5907\u597d\u7684\u6570\u636e\u96c6\n<p style=\"text-indent: 2em; font-family: \u5fae\u8f6f\u96c5\u9ed1; FONT-SIZE: 100%; COLOR: #191919; line-height: 1.5em;\">\n\u53c2\u8003\u4e0a\u97621.2\u6b65\u9aa4\uff0c\u91cd\u65b0\u5237\u65b0\u9879\u76ee\uff0c\u5e76\u628a\u65b0\u4fdd\u5b58\u7684\u6587\u4ef6bankloan_edit.csv\u52a0\u4e3a\u6570\u636e\u96c6\uff0c\u7136\u540e\u5728\u53f3\u4fa7\"Data\"\u56fe\u6807\u4e0b\u9009\u62e9\u8be5\u6587\u4ef6\"Insert to code\"\u4e0b\u7684\"Insert SparkSession DataFrame\"\n</p>\n<p style=\"text-indent: 2em; font-family: \u5fae\u8f6f\u96c5\u9ed1; FONT-SIZE: 100%; COLOR: #191919; line-height: 1.5em;\">\n<strong>\u4fee\u6539\u7a0b\u5e8f\u4e2d\u8bfb\u5165\u683c\u5f0f\uff0c\u4ece\u800c\u907f\u514d\u8f6c\u6362\u6570\u636e\u683c\u5f0f\uff1aspark.read -&gt; spark.read.schema(sm)</strong>\n</p>", 
            "cell_type": "markdown", 
            "metadata": {}
        }, 
        {
            "execution_count": 32, 
            "cell_type": "code", 
            "metadata": {}, 
            "outputs": [
                {
                    "execution_count": 32, 
                    "metadata": {}, 
                    "data": {
                        "text/plain": "[Row(age=41, ed=3, employ=17, address=12, income=176.0, debtinc=9.300000190734863, creddebt=11.359000205993652, othdebt=5.008999824523926, default=1),\n Row(age=27, ed=1, employ=10, address=6, income=31.0, debtinc=17.299999237060547, creddebt=1.3619999885559082, othdebt=4.000999927520752, default=0),\n Row(age=40, ed=1, employ=15, address=14, income=55.0, debtinc=5.5, creddebt=0.8560000061988831, othdebt=2.1689999103546143, default=0),\n Row(age=41, ed=1, employ=15, address=14, income=120.0, debtinc=2.9000000953674316, creddebt=2.6589999198913574, othdebt=0.8209999799728394, default=0),\n Row(age=24, ed=2, employ=2, address=0, income=28.0, debtinc=17.299999237060547, creddebt=1.7869999408721924, othdebt=3.056999921798706, default=1)]"
                    }, 
                    "output_type": "execute_result"
                }
            ], 
            "source": "\ndf_data_6 = spark.read.schema(sm)\\\n  .format('org.apache.spark.sql.execution.datasources.csv.CSVFileFormat')\\\n  .option('header', 'true')\\\n  .load(cos.url('bankloan_edit.csv', 'demos576f9d90364f446a9715e083788b0f67'))\ndf_data_6.take(5)\n"
        }, 
        {
            "source": "<p style=\"text-indent: 2em; font-family: \u5fae\u8f6f\u96c5\u9ed1; FONT-SIZE: 100%; COLOR: #191919; line-height: 1.5em;\">\n\u4fee\u6539\u6b63\u786e\u7684\u6570\u636e\u96c6\u540d\u79f0\n</p>", 
            "cell_type": "markdown", 
            "metadata": {}
        }, 
        {
            "execution_count": 33, 
            "cell_type": "code", 
            "metadata": {}, 
            "outputs": [
                {
                    "output_type": "stream", 
                    "name": "stdout", 
                    "text": "root\n |-- age: integer (nullable = true)\n |-- ed: integer (nullable = true)\n |-- employ: integer (nullable = true)\n |-- address: integer (nullable = true)\n |-- income: float (nullable = true)\n |-- debtinc: float (nullable = true)\n |-- creddebt: float (nullable = true)\n |-- othdebt: float (nullable = true)\n |-- default: integer (nullable = true)\n\n"
                }
            ], 
            "source": "df_data = df_data_6\ndf_data.printSchema()"
        }, 
        {
            "source": "### 3.2 \u5bf9\u8f93\u5165\u7279\u5f81\u8fdb\u884c\u7ec4\u88c5", 
            "cell_type": "markdown", 
            "metadata": {}
        }, 
        {
            "execution_count": 34, 
            "cell_type": "code", 
            "metadata": {}, 
            "outputs": [
                {
                    "output_type": "stream", 
                    "name": "stdout", 
                    "text": "+--------------------+-------+\n|            features|default|\n+--------------------+-------+\n|[41.0,3.0,17.0,12...|      1|\n|[27.0,1.0,10.0,6....|      0|\n|[40.0,1.0,15.0,14...|      0|\n|[41.0,1.0,15.0,14...|      0|\n|[24.0,2.0,2.0,0.0...|      1|\n+--------------------+-------+\nonly showing top 5 rows\n\n"
                }
            ], 
            "source": "from pyspark.ml.linalg import Vectors\nfrom pyspark.ml.feature import VectorAssembler\n\nassembler = VectorAssembler(\n    inputCols=[\"age\", \"ed\", \"employ\", \"address\", \"income\", \"debtinc\", \"creddebt\", \"othdebt\"],\n    outputCol=\"features\")\n\noutput = assembler.transform(df_data)\noutput.select(\"features\", \"default\").show(5)"
        }, 
        {
            "source": "### 3.3 \u4f7f\u7528\u968f\u673a\u68ee\u6797\u7b97\u6cd5", 
            "cell_type": "markdown", 
            "metadata": {}
        }, 
        {
            "execution_count": 38, 
            "cell_type": "code", 
            "metadata": {}, 
            "outputs": [], 
            "source": "from pyspark.ml.classification import RandomForestClassifier\n\nrf = RandomForestClassifier(numTrees=20, maxDepth=5, labelCol=\"default\", seed=207336481)\n#rf_model = rf.fit(train_data)"
        }, 
        {
            "source": "### 3.4 \u628a\u8f93\u51fa\u9884\u6d4b\u7ed3\u679c\u8f6c\u6362\u4e3a\u6587\u5b57", 
            "cell_type": "markdown", 
            "metadata": {}
        }, 
        {
            "execution_count": 39, 
            "cell_type": "code", 
            "metadata": {}, 
            "outputs": [], 
            "source": "from pyspark.ml.feature import IndexToString\nfrom pyspark.ml import Model, Pipeline\nlabelConverter = IndexToString(inputCol=\"prediction\", \n                               outputCol=\"predictedLabel\", labels=['not default', 'default'])"
        }, 
        {
            "source": "### 3.5 \u4f7f\u7528Spark pipeline\u7ec4\u88c5", 
            "cell_type": "markdown", 
            "metadata": {}
        }, 
        {
            "execution_count": 40, 
            "cell_type": "code", 
            "metadata": {}, 
            "outputs": [], 
            "source": "pipeline_rf = Pipeline(stages=[assembler, rf, labelConverter])"
        }, 
        {
            "source": "### 3.6 \u628a\u6570\u636e\u96c6\u5206\u62c6\u4e3a\u8bad\u7ec3\u96c6\u548c\u6d4b\u8bd5\u96c6", 
            "cell_type": "markdown", 
            "metadata": {}
        }, 
        {
            "execution_count": 41, 
            "cell_type": "code", 
            "metadata": {}, 
            "outputs": [
                {
                    "output_type": "stream", 
                    "name": "stdout", 
                    "text": "Number of training records: 557\nNumber of testing records : 143\n"
                }
            ], 
            "source": "splitted_data = df_data.randomSplit([0.8, 0.20], 24)\ntrain_data = splitted_data[0]\ntest_data = splitted_data[1]\n#predict_data = splitted_data[2]\n\nprint(\"Number of training records: \" + str(train_data.count()))\nprint(\"Number of testing records : \" + str(test_data.count()))"
        }, 
        {
            "source": "### 3.7 \u8bad\u7ec3\u6a21\u578b", 
            "cell_type": "markdown", 
            "metadata": {}
        }, 
        {
            "execution_count": 42, 
            "cell_type": "code", 
            "metadata": {}, 
            "outputs": [], 
            "source": "model_rf = pipeline_rf.fit(train_data)"
        }, 
        {
            "source": "### 3.8 \u4f7f\u7528\u6d4b\u8bd5\u96c6\u9a8c\u8bc1\u5e76\u8ba1\u7b97\u6a21\u578b\u6307\u6807", 
            "cell_type": "markdown", 
            "metadata": {}
        }, 
        {
            "execution_count": 43, 
            "cell_type": "code", 
            "metadata": {}, 
            "outputs": [], 
            "source": "rf_tr = model_rf.transform(test_data)\nscoreAndLabels = rf_tr.rdd.map(lambda x: [float(x.probability[1]), float(x.default)]).collect()"
        }, 
        {
            "source": "#### 3.8.1 \u4f7f\u7528AUC\u7b49\u6307\u6807", 
            "cell_type": "markdown", 
            "metadata": {}
        }, 
        {
            "execution_count": 46, 
            "cell_type": "code", 
            "metadata": {}, 
            "outputs": [
                {
                    "output_type": "stream", 
                    "name": "stdout", 
                    "text": "areaUnderROC: 0.8704742478327385\nareaUnderPR: 0.6318013546681596\n"
                }
            ], 
            "source": "from  pyspark.mllib.evaluation import BinaryClassificationMetrics\n\nmetrics = BinaryClassificationMetrics(scoreAndLabels)\nprint(\"areaUnderROC: \" + str(metrics.areaUnderROC))\nprint(\"areaUnderPR: \" + str(metrics.areaUnderPR))"
        }, 
        {
            "source": "#### 3.8.2 \u8ba1\u7b97\u51c6\u786e\u7387\u3001\u7cbe\u51c6\u7387\u3001\u53ec\u56de\u7387\u7b49\u6307\u6807", 
            "cell_type": "markdown", 
            "metadata": {}
        }, 
        {
            "execution_count": 47, 
            "cell_type": "code", 
            "metadata": {}, 
            "outputs": [
                {
                    "output_type": "stream", 
                    "name": "stdout", 
                    "text": "Accuracy:  0.7972027972027972\nPrecision for default:  0.75\nRecall for default:  0.32432432432432434\nPrecision for not default:  0.8031496062992126\nRecall for not default:  0.9622641509433962\nTruePositiveRate for default:  0.32432432432432434\nFalsePositiveRate for default:  0.03773584905660377\nTruePositiveRate for not default:  0.9622641509433962\nFalsePositiveRate for not default:  0.6756756756756757\n"
                }
            ], 
            "source": "from  pyspark.mllib.evaluation import MulticlassMetrics\n\npredictionAndLabels = rf_tr.rdd.map(lambda x: [float(x.prediction), float(x.default)]).collect()\npredictionAndLabels = sc.parallelize(predictionAndLabels)\nmmetrics = MulticlassMetrics(predictionAndLabels)\nprint(\"Accuracy: \", mmetrics.accuracy)\nprint(\"Precision for default: \", mmetrics.precision(1.0))\nprint(\"Recall for default: \", mmetrics.recall(1.0))\nprint(\"Precision for not default: \", mmetrics.precision(0.0))\nprint(\"Recall for not default: \", mmetrics.recall(0.0))\nprint(\"TruePositiveRate for default: \", mmetrics.truePositiveRate(1.0))\nprint(\"FalsePositiveRate for default: \", mmetrics.falsePositiveRate(1.0))\nprint(\"TruePositiveRate for not default: \", mmetrics.truePositiveRate(0.0))\nprint(\"FalsePositiveRate for not default: \", mmetrics.falsePositiveRate(0.0))"
        }, 
        {
            "execution_count": 52, 
            "cell_type": "code", 
            "metadata": {}, 
            "outputs": [
                {
                    "execution_count": 52, 
                    "metadata": {}, 
                    "data": {
                        "text/plain": "DenseMatrix(2, 2, [102.0, 25.0, 4.0, 12.0], 0)"
                    }, 
                    "output_type": "execute_result"
                }
            ], 
            "source": "mmetrics.confusionMatrix()"
        }, 
        {
            "execution_count": null, 
            "cell_type": "code", 
            "metadata": {}, 
            "outputs": [], 
            "source": "rf_model = model_rf.stages[1]"
        }, 
        {
            "execution_count": 53, 
            "cell_type": "code", 
            "metadata": {}, 
            "outputs": [
                {
                    "output_type": "stream", 
                    "name": "stdout", 
                    "text": "age \t:  0.0851345292062\ned \t:  0.0201493315137\nemploy \t:  0.286717009857\naddress \t:  0.0918278816717\nincome \t:  0.0820203985836\ndebtinc \t:  0.193316664148\ncreddebt \t:  0.165632607628\nothdebt \t:  0.0752015773911\n"
                }
            ], 
            "source": "for i in range(len(rf_model.featureImportances)):\n    print(cols[i], \"\\t: \", rf_model.featureImportances[i])"
        }, 
        {
            "source": "#### 3.8.3 \u53e6\u4e00\u79cd\u6307\u6807\u8ba1\u7b97\u65b9\u6cd5", 
            "cell_type": "markdown", 
            "metadata": {}
        }, 
        {
            "execution_count": 48, 
            "cell_type": "code", 
            "metadata": {}, 
            "outputs": [
                {
                    "output_type": "stream", 
                    "name": "stdout", 
                    "text": "Accuracy = 0.797203\nTest Error = 0.202797\n"
                }
            ], 
            "source": "from pyspark.ml.evaluation import MulticlassClassificationEvaluator\n\npredictions = rf_tr\nevaluatorRF = MulticlassClassificationEvaluator(labelCol=\"default\", predictionCol=\"prediction\", metricName=\"accuracy\")\naccuracy = evaluatorRF.evaluate(predictions)\nprint(\"Accuracy = %g\" % accuracy)\nprint(\"Test Error = %g\" % (1.0 - accuracy))"
        }, 
        {
            "source": "### 3.9 \u56fe\u5f62\u5316\u5c55\u73b0ROC", 
            "cell_type": "markdown", 
            "metadata": {}
        }, 
        {
            "execution_count": 49, 
            "cell_type": "code", 
            "metadata": {}, 
            "outputs": [], 
            "source": "prob = rf_tr.select(\"probability\").rdd.map(lambda x: x[0][1]).collect()\nlab = rf_tr.select('default').rdd.map(lambda x: x[0]).collect()"
        }, 
        {
            "execution_count": 50, 
            "cell_type": "code", 
            "metadata": {}, 
            "outputs": [
                {
                    "output_type": "display_data", 
                    "data": {
                        "image/png": "[encoded data removed]", 
                        "text/plain": "<matplotlib.figure.Figure at 0x7fbe57f72f98>"
                    }, 
                    "metadata": {}
                }
            ], 
            "source": "%matplotlib inline\nfrom sklearn.metrics import roc_curve,auc\n\n#prob = rf_tr[\"probability\"] \nfpr, tpr, thresholds = roc_curve(lab, prob, pos_label=1);\nroc_auc = auc(fpr, tpr)\n\n# PLOT ROC CURVE\nplt.figure(figsize=(5,5))\nplt.plot(fpr, tpr, label='ROC curve (area = %0.2f)' % roc_auc)\nplt.plot([0, 1], [0, 1], 'k--')\nplt.xlim([0.0, 1.0])\nplt.ylim([0.0, 1.05])\nplt.xlabel('False Positive Rate')\nplt.ylabel('True Positive Rate')\nplt.title('ROC Curve')\nplt.legend(loc=\"lower right\")\nplt.show()"
        }, 
        {
            "source": "## 4. \u4fdd\u5b58\u6a21\u578b", 
            "cell_type": "markdown", 
            "metadata": {}
        }, 
        {
            "execution_count": 51, 
            "cell_type": "code", 
            "metadata": {}, 
            "outputs": [
                {
                    "output_type": "stream", 
                    "name": "stderr", 
                    "text": "/usr/local/src/conda3_runtime/home/envs/DSX-Python35-Spark/lib/python3.5/site-packages/sklearn/cross_validation.py:41: DeprecationWarning: This module was deprecated in version 0.18 in favor of the model_selection module into which all the refactored classes and functions are moved. Also note that the interface of the new CV iterators are different from that of this module. This module will be removed in 0.20.\n  \"This module will be removed in 0.20.\", DeprecationWarning)\n"
                }
            ], 
            "source": "from repository.mlrepositoryclient import MLRepositoryClient\nfrom repository.mlrepositoryartifact import MLRepositoryArtifact"
        }, 
        {
            "source": "<p style=\"text-indent: 2em; font-family: \u5fae\u8f6f\u96c5\u9ed1; FONT-SIZE: 100%; COLOR: #191919; line-height: 1.5em;\">\n<strong>\u8d4b\u503c\u670d\u52a1\u7684\u76f8\u5173\u53d8\u91cf\uff1a</strong>\n</p>\n<ul>\n    <li>url= \"\"  # \u53f3\u4e0a\u89d2\u7528\u6237\u56fe\u6807->setting\uff0c\u70b9\u51fb\"Apps and Services\"\uff0c\u9009\u62e9Machine Learning-xx\uff0c\u9009\u62e9\u670d\u52a1\u51ed\u8bc1\uff0c\u67e5\u770b\u51ed\u8bc1\uff0c\u590d\u5236url\u503c\u5230\u5de6\u4fa7\n    <li>username=\"\" # \u590d\u5236username\u503c\u5230\u5de6\u4fa7</li>\n    <li>password=\"\"  # \u590d\u5236\"password\"\u540e\u9762\u503c\u5230\u5de6\u4fa7</li>\n    <li>instance_id=\"\" # \u590d\u5236\"instance_id\"\u540e\u9762\u503c\u5230\u5de6\u4fa7</li>\n</ul>\n", 
            "cell_type": "markdown", 
            "metadata": {}
        }, 
        {
            "execution_count": 54, 
            "cell_type": "code", 
            "metadata": {}, 
            "outputs": [], 
            "source": "# The code was removed by DSX for sharing."
        }, 
        {
            "execution_count": 55, 
            "cell_type": "code", 
            "metadata": {}, 
            "outputs": [], 
            "source": "ml_repository_client = MLRepositoryClient(url)\nml_repository_client.authorize(username, password)"
        }, 
        {
            "source": "<p style=\"text-indent: 2em; font-family: \u5fae\u8f6f\u96c5\u9ed1; FONT-SIZE: 100%; COLOR: #191919; line-height: 1.5em;\">\n<strong>\u53ef\u4ee5\u4fee\u6539\u4fdd\u5b58\u7684\u6a21\u578b\u540d\u5b57\uff0c\u5982\"Artifact Model\" -&gt; \"&lt;your name&gt; Model\"</strong>\n</p>\n", 
            "cell_type": "markdown", 
            "metadata": {}
        }, 
        {
            "execution_count": 56, 
            "cell_type": "code", 
            "metadata": {}, 
            "outputs": [], 
            "source": "from repository.mlrepository.meta_props import MetaProps\nfrom repository.mlrepository.meta_names import MetaNames\nmodel_artifact = MLRepositoryArtifact(model_rf, training_data=train_data, name=\"Artifact Model\", meta_props=MetaProps({\n     MetaNames.LABEL_FIELD: \"default\" }))"
        }, 
        {
            "execution_count": 57, 
            "cell_type": "code", 
            "metadata": {}, 
            "outputs": [], 
            "source": "saved_model = ml_repository_client.models.save(model_artifact)"
        }, 
        {
            "execution_count": 58, 
            "cell_type": "code", 
            "metadata": {}, 
            "outputs": [
                {
                    "output_type": "stream", 
                    "name": "stdout", 
                    "text": "modelType: sparkml-model-2.1\ntrainingDataSchema: {'type': 'struct', 'fields': [{'metadata': {}, 'nullable': True, 'type': 'integer', 'name': 'age'}, {'metadata': {}, 'nullable': True, 'type': 'integer', 'name': 'ed'}, {'metadata': {}, 'nullable': True, 'type': 'integer', 'name': 'employ'}, {'metadata': {}, 'nullable': True, 'type': 'integer', 'name': 'address'}, {'metadata': {}, 'nullable': True, 'type': 'float', 'name': 'income'}, {'metadata': {}, 'nullable': True, 'type': 'float', 'name': 'debtinc'}, {'metadata': {}, 'nullable': True, 'type': 'float', 'name': 'creddebt'}, {'metadata': {}, 'nullable': True, 'type': 'float', 'name': 'othdebt'}, {'metadata': {}, 'nullable': True, 'type': 'integer', 'name': 'default'}]}\ncreationTime: 2018-03-15 16:34:30.277000+00:00\nmodelVersionHref: https://ibm-watson-ml.mybluemix.net/v2/artifacts/models/d203a888-3bb0-4e6e-a07f-30db3bb57509/versions/a206cf7d-4d65-4c9e-a08d-a3a8a9c18697\nlabel: default\n"
                }
            ], 
            "source": "print(\"modelType: \" + saved_model.meta.prop(\"modelType\"))\nprint(\"trainingDataSchema: \" + str(saved_model.meta.prop(\"trainingDataSchema\")))\nprint(\"creationTime: \" + str(saved_model.meta.prop(\"creationTime\")))\nprint(\"modelVersionHref: \" + saved_model.meta.prop(\"modelVersionHref\"))\nprint(\"label: \" + saved_model.meta.prop(\"label\"))"
        }, 
        {
            "execution_count": 59, 
            "cell_type": "code", 
            "metadata": {}, 
            "outputs": [
                {
                    "execution_count": 59, 
                    "metadata": {}, 
                    "data": {
                        "text/plain": "'d203a888-3bb0-4e6e-a07f-30db3bb57509'"
                    }, 
                    "output_type": "execute_result"
                }
            ], 
            "source": "saved_model.uid"
        }, 
        {
            "source": "## 5. \u90e8\u7f72\u6a21\u578b", 
            "cell_type": "markdown", 
            "metadata": {}
        }, 
        {
            "execution_count": 60, 
            "cell_type": "code", 
            "metadata": {}, 
            "outputs": [], 
            "source": "import urllib3, requests, json\n\nheaders = urllib3.util.make_headers(basic_auth='{}:{}'.format(username, password))\nurl2 = '{}/v2/identity/token'.format(url)\nresponse = requests.get(url2, headers=headers)\nmltoken = json.loads(response.text).get('token')"
        }, 
        {
            "execution_count": 61, 
            "cell_type": "code", 
            "metadata": {}, 
            "outputs": [
                {
                    "output_type": "stream", 
                    "name": "stdout", 
                    "text": "<Response [200]>\n"
                }
            ], 
            "source": "endpoint_instance = url + \"/v3/wml_instances/\" + instance_id\nheader = {'Content-Type': 'application/json', 'Authorization': 'Bearer ' + mltoken}\n\nresponse_get_instance = requests.get(endpoint_instance, headers=header)\n\nprint(response_get_instance)\n#print(response_get_instance.text)"
        }, 
        {
            "execution_count": 62, 
            "cell_type": "code", 
            "metadata": {}, 
            "outputs": [
                {
                    "output_type": "stream", 
                    "name": "stdout", 
                    "text": "https://ibm-watson-ml.mybluemix.net/v3/wml_instances/912d9d26-683b-4f7a-a1cf-4422d40e7972/published_models\n"
                }
            ], 
            "source": "endpoint_published_models = json.loads(response_get_instance.text).get('entity').get('published_models').get('url')\nprint(endpoint_published_models)"
        }, 
        {
            "execution_count": 63, 
            "cell_type": "code", 
            "metadata": {}, 
            "outputs": [
                {
                    "output_type": "stream", 
                    "name": "stdout", 
                    "text": "<Response [200]>\n"
                }
            ], 
            "source": "header = {'Content-Type': 'application/json', 'Authorization': 'Bearer ' + mltoken}\n\nresponse_get = requests.get(endpoint_published_models, headers=header)\nprint(response_get)\n#print(response_get.text)"
        }, 
        {
            "execution_count": 64, 
            "cell_type": "code", 
            "metadata": {}, 
            "outputs": [
                {
                    "output_type": "stream", 
                    "name": "stdout", 
                    "text": "https://ibm-watson-ml.mybluemix.net/v3/wml_instances/912d9d26-683b-4f7a-a1cf-4422d40e7972/published_models/d203a888-3bb0-4e6e-a07f-30db3bb57509/deployments\n"
                }
            ], 
            "source": "[endpoint_deployments] = [x.get('entity').get('deployments').get('url') for x in json.loads(response_get.text).get('resources') if x.get('metadata').get('guid') == saved_model.uid]\n\nprint(endpoint_deployments)"
        }, 
        {
            "source": "<p style=\"text-indent: 2em; font-family: \u5fae\u8f6f\u96c5\u9ed1; FONT-SIZE: 100%; COLOR: #191919; line-height: 1.5em;\">\n<strong>\u53ef\u4ee5\u4fee\u6539\u90e8\u7f72\u6a21\u578b\u540d\u79f0</strong>\n</p>", 
            "cell_type": "markdown", 
            "metadata": {}
        }, 
        {
            "execution_count": 65, 
            "cell_type": "code", 
            "metadata": {}, 
            "outputs": [
                {
                    "output_type": "stream", 
                    "name": "stdout", 
                    "text": "<Response [201]>\n"
                }
            ], 
            "source": "payload_online = {\"name\": \"Bank Loan Default Prediction\", \"description\": \"My Deployment\", \"type\": \"online\"}\nresponse_online = requests.post(endpoint_deployments, json=payload_online, headers=header)\n\nprint(response_online)\n#print(response_online.text)"
        }, 
        {
            "execution_count": 66, 
            "cell_type": "code", 
            "metadata": {}, 
            "outputs": [
                {
                    "output_type": "stream", 
                    "name": "stdout", 
                    "text": "https://ibm-watson-ml.mybluemix.net/v3/wml_instances/912d9d26-683b-4f7a-a1cf-4422d40e7972/published_models/d203a888-3bb0-4e6e-a07f-30db3bb57509/deployments/8803ea27-d862-44ae-93d1-a58c17c73b4f/online\n"
                }
            ], 
            "source": "scoring_url = json.loads(response_online.text).get('entity').get('scoring_url')\nprint(scoring_url)"
        }, 
        {
            "source": "## 6. \u6d4b\u8bd5\u6a21\u578bAPI", 
            "cell_type": "markdown", 
            "metadata": {}
        }, 
        {
            "execution_count": 81, 
            "cell_type": "code", 
            "metadata": {}, 
            "outputs": [
                {
                    "output_type": "stream", 
                    "name": "stdout", 
                    "text": "{\n  \"fields\": [\"age\", \"ed\", \"address\", \"employ\", \"income\", \"debtinc\", \"creddebt\", \"othdebt\", \"features\", \"rawPrediction\", \"probability\", \"prediction\", \"predictedLabel\"],\n  \"values\": [[33, 1, 5, 8, 116.0, 15.0, 5.0, 10.0, [33.0, 1.0, 8.0, 5.0, 116.0, 15.0, 5.0, 10.0], [10.587353053077383, 9.412646946922617], [0.5293676526538691, 0.47063234734613085], 0.0, \"not default\"], [31, 3, 3, 3, 52.0, 20.0, 15.0, 5.0, [31.0, 3.0, 3.0, 3.0, 52.0, 20.0, 15.0, 5.0], [8.641658162473622, 11.358341837526378], [0.4320829081236811, 0.5679170918763189], 1.0, \"default\"]]\n}\n"
                }
            ], 
            "source": "payload_scoring = {\"fields\": [\"age\",\"ed\", \"address\",\"employ\",\"income\",\"debtinc\",\"creddebt\",\"othdebt\"],\"values\": [[33,1,5,8,116,15,5,10],[31,3,3,3,52,20,15,5]]}\nresponse_scoring = requests.post(scoring_url, json=payload_scoring, headers=header)\n\nprint(response_scoring.text)"
        }, 
        {
            "execution_count": 82, 
            "cell_type": "code", 
            "metadata": {}, 
            "outputs": [], 
            "source": "spark.stop()"
        }, 
        {
            "source": "## \u4f5c\u8005\n\n**\u674e\u82f1\u4f1f liyingw@cn.ibm.com ** ", 
            "cell_type": "markdown", 
            "metadata": {}
        }, 
        {
            "execution_count": null, 
            "cell_type": "code", 
            "metadata": {}, 
            "outputs": [], 
            "source": ""
        }
    ], 
    "metadata": {
        "kernelspec": {
            "display_name": "Python 3.5 with Spark 2.1", 
            "name": "python3-spark21", 
            "language": "python"
        }, 
        "language_info": {
            "mimetype": "text/x-python", 
            "nbconvert_exporter": "python", 
            "version": "3.5.4", 
            "name": "python", 
            "file_extension": ".py", 
            "pygments_lexer": "ipython3", 
            "codemirror_mode": {
                "version": 3, 
                "name": "ipython"
            }
        }
    }, 
    "nbformat": 4
}
