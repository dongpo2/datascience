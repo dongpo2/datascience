{
 "cells": [
  {
   "cell_type": "markdown",
   "metadata": {
    "deletable": true,
    "editable": true
   },
   "source": [
    "# 自动化特征工程 - 使用模型选择特征"
   ]
  },
  {
   "cell_type": "markdown",
   "metadata": {
    "deletable": true,
    "editable": true
   },
   "source": [
    "<p style=\"text-indent: 2em; font-family: 微软雅黑; FONT-SIZE: 100%; COLOR: #191919; line-height: 1.5em;\">\n",
    "此文档是根据IBM 实验室在自动化特征工程领域的研究\"One button machine for automating feature engineering in relational databases\"及相关文献的思路对开放数据集“Berka dataset”进行特征工程的初步实践。\n",
    "</p>\n",
    "<p style=\"text-indent: 2em; font-family: 微软雅黑; FONT-SIZE: 100%; COLOR: #191919; line-height: 1.5em;\">\n",
    "此部分是根据模型的特征贡献度来筛选生成的特征。\n",
    "</p>"
   ]
  },
  {
   "cell_type": "code",
   "execution_count": 1,
   "metadata": {
    "collapsed": true,
    "deletable": true,
    "editable": true
   },
   "outputs": [],
   "source": [
    "from pyspark.sql import SparkSession\n",
    "from pyspark.sql.types import *\n",
    "import os"
   ]
  },
  {
   "cell_type": "code",
   "execution_count": 2,
   "metadata": {
    "collapsed": true,
    "deletable": true,
    "editable": true
   },
   "outputs": [],
   "source": [
    "spark = SparkSession \\\n",
    "    .builder \\\n",
    "    .appName(\"Feature Engineering Prepare example\") \\\n",
    "    .config(\"spark.sql.execution.arrow.enabled\", \"false\") \\\n",
    "    .getOrCreate()"
   ]
  },
  {
   "cell_type": "markdown",
   "metadata": {
    "deletable": true,
    "editable": true
   },
   "source": [
    "## 1. 读入特征宽表"
   ]
  },
  {
   "cell_type": "code",
   "execution_count": 3,
   "metadata": {
    "collapsed": true,
    "deletable": true,
    "editable": true
   },
   "outputs": [],
   "source": [
    "path = os.environ['DSX_PROJECT_DIR']+'/datasets'"
   ]
  },
  {
   "cell_type": "code",
   "execution_count": 4,
   "metadata": {
    "collapsed": true,
    "deletable": true,
    "editable": true
   },
   "outputs": [],
   "source": [
    "sch_loan_ex = StructType([\n",
    "\tStructField(\"account_id\", IntegerType(), True),\n",
    "\tStructField(\"frequency\", IntegerType(), True),\n",
    "\tStructField(\"acc_open_days\", IntegerType(), True),\n",
    "\tStructField(\"gender\", IntegerType(), True),\n",
    "\tStructField(\"birth_days\", IntegerType(), True),\n",
    "\tStructField(\"client_cnt\", IntegerType(), True),\n",
    "\tStructField(\"trans_cnt\", IntegerType(), True),\n",
    "\tStructField(\"amt_s\", DecimalType(11, 2), True),\n",
    "\tStructField(\"amt_a\", DecimalType(11, 2), True),\n",
    "\tStructField(\"amt_d\", DecimalType(11, 2), True),\n",
    "\tStructField(\"amt_x\", DecimalType(11, 2), True),\n",
    "\tStructField(\"amt_n\", DecimalType(11, 2), True),\n",
    "\tStructField(\"balance_s\", DecimalType(11, 2), True),\n",
    "\tStructField(\"balance_a\", DecimalType(11, 2), True),\n",
    "\tStructField(\"balance_d\", DecimalType(11, 2), True),\n",
    "\tStructField(\"balance_x\", DecimalType(11, 2), True),\n",
    "\tStructField(\"balance_n\", DecimalType(11, 2), True),\n",
    "\tStructField(\"trans_dt_r\", IntegerType(), True),\n",
    "\tStructField(\"symbol_1\", IntegerType(), True),\n",
    "\tStructField(\"symbol_2\", IntegerType(), True),\n",
    "\tStructField(\"symbol_3\", IntegerType(), True),\n",
    "\tStructField(\"symbol_4\", IntegerType(), True),\n",
    "\tStructField(\"symbol_5\", IntegerType(), True),\n",
    "\tStructField(\"symbol_6\", IntegerType(), True),\n",
    "\tStructField(\"symbol_amt_1_s\", DecimalType(11, 2), True),\n",
    "\tStructField(\"symbol_amt_2_s\", DecimalType(11, 2), True),\n",
    "\tStructField(\"symbol_amt_3_s\", DecimalType(11, 2), True),\n",
    "\tStructField(\"symbol_amt_4_s\", DecimalType(11, 2), True),\n",
    "\tStructField(\"symbol_amt_5_s\", DecimalType(11, 2), True),\n",
    "\tStructField(\"symbol_amt_6_s\", DecimalType(11, 2), True),\n",
    "\tStructField(\"symbol_amt_1_a\", DecimalType(11, 2), True),\n",
    "\tStructField(\"symbol_amt_2_a\", DecimalType(11, 2), True),\n",
    "\tStructField(\"symbol_amt_3_a\", DecimalType(11, 2), True),\n",
    "\tStructField(\"symbol_amt_4_a\", DecimalType(11, 2), True),\n",
    "\tStructField(\"symbol_amt_5_a\", DecimalType(11, 2), True),\n",
    "\tStructField(\"symbol_amt_6_a\", DecimalType(11, 2), True),\n",
    "\tStructField(\"symbol_amt_1_x\", DecimalType(11, 2), True),\n",
    "\tStructField(\"symbol_amt_2_x\", DecimalType(11, 2), True),\n",
    "\tStructField(\"symbol_amt_3_x\", DecimalType(11, 2), True),\n",
    "\tStructField(\"symbol_amt_4_x\", DecimalType(11, 2), True),\n",
    "\tStructField(\"symbol_amt_5_x\", DecimalType(11, 2), True),\n",
    "\tStructField(\"symbol_amt_6_x\", DecimalType(11, 2), True),\n",
    "\tStructField(\"symbol_amt_1_n\", DecimalType(11, 2), True),\n",
    "\tStructField(\"symbol_amt_2_n\", DecimalType(11, 2), True),\n",
    "\tStructField(\"symbol_amt_3_n\", DecimalType(11, 2), True),\n",
    "\tStructField(\"symbol_amt_4_n\", DecimalType(11, 2), True),\n",
    "\tStructField(\"symbol_amt_5_n\", DecimalType(11, 2), True),\n",
    "\tStructField(\"symbol_amt_6_n\", DecimalType(11, 2), True),\n",
    "\tStructField(\"card_cnt\", IntegerType(), True),\n",
    "\tStructField(\"card_tp\", IntegerType(), True),\n",
    "\tStructField(\"card_issued_days\", IntegerType(), True),\n",
    "\tStructField(\"region_tp\", IntegerType(), True),\n",
    "\tStructField(\"Inhabitants\", IntegerType(), True),\n",
    "\tStructField(\"Municipalities499\", IntegerType(), True),\n",
    "\tStructField(\"Municipalities1999\", IntegerType(), True),\n",
    "\tStructField(\"Municipalities9999\", IntegerType(), True),\n",
    "\tStructField(\"Municipalities10000\", IntegerType(), True),\n",
    "\tStructField(\"cities\", IntegerType(), True),\n",
    "\tStructField(\"urbanratio\", DecimalType(11, 2), True),\n",
    "\tStructField(\"avgsalary\", DecimalType(11, 2), True),\n",
    "\tStructField(\"unemploy95\", DecimalType(11, 2), True),\n",
    "\tStructField(\"unemploy96\", DecimalType(11, 2), True),\n",
    "\tStructField(\"Enterpreneurs\", IntegerType(), True),\n",
    "\tStructField(\"crimes95\", IntegerType(), True),\n",
    "\tStructField(\"crimes96\", IntegerType(), True),\n",
    "\tStructField(\"payorder_cnt\", IntegerType(), True),\n",
    "\tStructField(\"payorder_amt_s\", DecimalType(11, 2), True),\n",
    "\tStructField(\"payorder_amt_a\", DecimalType(11, 2), True),\n",
    "\tStructField(\"payorder_amt_t\", DecimalType(11, 2), True),\n",
    "\tStructField(\"payorder_amt_x\", DecimalType(11, 2), True),\n",
    "\tStructField(\"payorder_symbol_1\", IntegerType(), True),\n",
    "\tStructField(\"payorder_symbol_2\", IntegerType(), True),\n",
    "\tStructField(\"payorder_symbol_3\", IntegerType(), True),\n",
    "\tStructField(\"payorder_symbol_4\", IntegerType(), True),\n",
    "\tStructField(\"payorder_symbol_6\", IntegerType(), True),\n",
    "\tStructField(\"granted_days\", IntegerType(), True),\n",
    "\tStructField(\"amount\", DecimalType(11, 2), True),\n",
    "\tStructField(\"duration\", IntegerType(), True),\n",
    "\tStructField(\"payments\", DecimalType(11, 2), True),\n",
    "\tStructField(\"label\", IntegerType(), True)\n",
    "    ])"
   ]
  },
  {
   "cell_type": "code",
   "execution_count": 5,
   "metadata": {
    "collapsed": true,
    "deletable": true,
    "editable": true
   },
   "outputs": [],
   "source": [
    "df_loan = spark.read.csv(path+\"/loan_ex2.csv\", header=True, schema=sch_loan_ex)"
   ]
  },
  {
   "cell_type": "code",
   "execution_count": 6,
   "metadata": {
    "collapsed": false,
    "deletable": true,
    "editable": true
   },
   "outputs": [
    {
     "name": "stdout",
     "output_type": "stream",
     "text": [
      "+----------+---------+-------------+------+----------+----------+---------+----------+-------+-------+--------+-----+-----------+---------+---------+---------+---------+----------+--------+--------+--------+--------+--------+--------+--------------+--------------+--------------+--------------+--------------+--------------+--------------+--------------+--------------+--------------+--------------+--------------+--------------+--------------+--------------+--------------+--------------+--------------+--------------+--------------+--------------+--------------+--------------+--------------+--------+-------+----------------+---------+-----------+-----------------+------------------+------------------+-------------------+------+----------+---------+----------+----------+-------------+--------+--------+------------+--------------+--------------+--------------+--------------+-----------------+-----------------+-----------------+-----------------+-----------------+------------+---------+--------+--------+-----+\n",
      "|account_id|frequency|acc_open_days|gender|birth_days|client_cnt|trans_cnt|     amt_s|  amt_a|  amt_d|   amt_x|amt_n|  balance_s|balance_a|balance_d|balance_x|balance_n|trans_dt_r|symbol_1|symbol_2|symbol_3|symbol_4|symbol_5|symbol_6|symbol_amt_1_s|symbol_amt_2_s|symbol_amt_3_s|symbol_amt_4_s|symbol_amt_5_s|symbol_amt_6_s|symbol_amt_1_a|symbol_amt_2_a|symbol_amt_3_a|symbol_amt_4_a|symbol_amt_5_a|symbol_amt_6_a|symbol_amt_1_x|symbol_amt_2_x|symbol_amt_3_x|symbol_amt_4_x|symbol_amt_5_x|symbol_amt_6_x|symbol_amt_1_n|symbol_amt_2_n|symbol_amt_3_n|symbol_amt_4_n|symbol_amt_5_n|symbol_amt_6_n|card_cnt|card_tp|card_issued_days|region_tp|Inhabitants|Municipalities499|Municipalities1999|Municipalities9999|Municipalities10000|cities|urbanratio|avgsalary|unemploy95|unemploy96|Enterpreneurs|crimes95|crimes96|payorder_cnt|payorder_amt_s|payorder_amt_a|payorder_amt_t|payorder_amt_x|payorder_symbol_1|payorder_symbol_2|payorder_symbol_3|payorder_symbol_4|payorder_symbol_6|granted_days|   amount|duration|payments|label|\n",
      "+----------+---------+-------------+------+----------+----------+---------+----------+-------+-------+--------+-----+-----------+---------+---------+---------+---------+----------+--------+--------+--------+--------+--------+--------+--------------+--------------+--------------+--------------+--------------+--------------+--------------+--------------+--------------+--------------+--------------+--------------+--------------+--------------+--------------+--------------+--------------+--------------+--------------+--------------+--------------+--------------+--------------+--------------+--------+-------+----------------+---------+-----------+-----------------+------------------+------------------+-------------------+------+----------+---------+----------+----------+-------------+--------+--------+------------+--------------+--------------+--------------+--------------+-----------------+-----------------+-----------------+-----------------+-----------------+------------+---------+--------+--------+-----+\n",
      "|      2142|        1|          487|     2|     12492|         2|       91| 647475.30|7115.11|8568.77|46560.00|14.60| 3431774.40| 37711.81| 11357.83| 68151.20|  1000.00|         1|       0|      20|       0|      34|      21|      16|          0.00|     337025.00|          0.00|     181060.60|     126888.00|       2501.70|          0.00|       3703.57|          0.00|       1989.68|       1394.37|         27.49|          0.00|      27285.00|          0.00|      46560.00|       9768.00|        206.20|          0.00|          0.00|          0.00|          0.00|          0.00|          0.00|       0|      0|              -1|        3|      95907|               87|                25|                 5|                  2|     7|     59.10|  8388.00|      2.41|      2.94|           87|    1658|    1668|           2|      11712.00|       5856.00|       5532.40|       9768.00|                0|                1|                0|                1|                0|         300| 23328.00|      12| 1944.00|    0|\n",
      "|      6397|        1|         1388|     2|     11889|         2|      264|1775698.10|6726.13|7665.57|27150.00|14.60|10891377.40| 41255.22| 12473.26| 79501.30|   500.00|         1|       0|       7|      45|     140|      27|      45|          0.00|      28600.00|     886900.00|     771325.00|      81450.90|       7422.20|          0.00|        108.33|       3359.47|       2921.69|        308.53|         28.11|          0.00|       8900.00|      27150.00|      23800.00|       3016.70|        262.80|          0.00|          0.00|          0.00|          0.00|          0.00|          0.00|       0|      0|              -1|        3|      78955|               50|                24|                 8|                  1|     9|     59.00|  9060.00|      1.78|      2.44|          124|    1655|    1717|           1|       3016.70|       3016.70|          0.00|       3016.70|                0|                0|                0|                1|                0|         837|181020.00|      60| 3017.00|    0|\n",
      "+----------+---------+-------------+------+----------+----------+---------+----------+-------+-------+--------+-----+-----------+---------+---------+---------+---------+----------+--------+--------+--------+--------+--------+--------+--------------+--------------+--------------+--------------+--------------+--------------+--------------+--------------+--------------+--------------+--------------+--------------+--------------+--------------+--------------+--------------+--------------+--------------+--------------+--------------+--------------+--------------+--------------+--------------+--------+-------+----------------+---------+-----------+-----------------+------------------+------------------+-------------------+------+----------+---------+----------+----------+-------------+--------+--------+------------+--------------+--------------+--------------+--------------+-----------------+-----------------+-----------------+-----------------+-----------------+------------+---------+--------+--------+-----+\n",
      "only showing top 2 rows\n",
      "\n"
     ]
    }
   ],
   "source": [
    "df_loan.show(2)"
   ]
  },
  {
   "cell_type": "code",
   "execution_count": 7,
   "metadata": {
    "collapsed": true,
    "deletable": true,
    "editable": true
   },
   "outputs": [],
   "source": [
    "cols =[\"frequency\", \"acc_open_days\", \"gender\", \"birth_days\", \"client_cnt\", \"trans_cnt\", \\\n",
    "               \"amt_s\", \"amt_a\", \"amt_d\", \"amt_x\", \"amt_n\", \"balance_s\", \"balance_a\", \"balance_d\", \\\n",
    "               \"balance_x\", \"balance_n\", \"trans_dt_r\", \"symbol_1\", \"symbol_2\", \"symbol_3\", \"symbol_4\",  \"symbol_5\", \\\n",
    "               \"symbol_6\", \"symbol_amt_1_s\", \"symbol_amt_2_s\", \"symbol_amt_3_s\", \"symbol_amt_4_s\", \\\n",
    "               \"symbol_amt_5_s\", \"symbol_amt_6_s\", \"symbol_amt_1_a\", \"symbol_amt_2_a\", \"symbol_amt_3_a\", \"symbol_amt_4_a\", \\\n",
    "               \"symbol_amt_5_a\", \"symbol_amt_6_a\", \"symbol_amt_1_x\", \"symbol_amt_2_x\", \"symbol_amt_3_x\", \"symbol_amt_4_x\", \\\n",
    "               \"symbol_amt_5_x\", \"symbol_amt_6_x\", \"symbol_amt_1_n\", \"symbol_amt_2_n\", \"symbol_amt_3_n\", \"symbol_amt_4_n\", \\\n",
    "               \"symbol_amt_5_n\", \"symbol_amt_6_n\", \"card_cnt\", \"card_tp\", \"card_issued_days\", \"region_tp\", \"Inhabitants\", \\\n",
    "               \"Municipalities499\", \"Municipalities1999\", \"Municipalities9999\", \"Municipalities10000\", \\\n",
    "               \"cities\", \"urbanratio\", \"avgsalary\", \"unemploy95\", \"unemploy96\", \"Enterpreneurs\", \"crimes95\", \\\n",
    "               \"crimes96\", \"payorder_cnt\", \"payorder_amt_s\", \"payorder_amt_a\", \"payorder_amt_t\", \\\n",
    "               \"payorder_amt_x\", \"payorder_symbol_1\", \"payorder_symbol_2\", \"payorder_symbol_3\", \\\n",
    "               \"payorder_symbol_4\", \"payorder_symbol_6\", \"granted_days\", \"amount\", \"duration\", \"payments\"]"
   ]
  },
  {
   "cell_type": "markdown",
   "metadata": {
    "deletable": true,
    "editable": true
   },
   "source": [
    "## 2. 建模并训练"
   ]
  },
  {
   "cell_type": "markdown",
   "metadata": {
    "deletable": true,
    "editable": true
   },
   "source": [
    "### 2.1 组装特征"
   ]
  },
  {
   "cell_type": "markdown",
   "metadata": {
    "deletable": true,
    "editable": true
   },
   "source": [
    "<p style=\"text-indent: 2em; font-family: 微软雅黑; FONT-SIZE: 100%; COLOR: #191919; line-height: 1.5em;\">\n",
    "使用Spark pipeline方式。pipeline第一阶段是组装特征。\n",
    "</p>\n"
   ]
  },
  {
   "cell_type": "code",
   "execution_count": 8,
   "metadata": {
    "collapsed": false,
    "deletable": true,
    "editable": true
   },
   "outputs": [
    {
     "name": "stdout",
     "output_type": "stream",
     "text": [
      "+--------------------+-----+\n",
      "|            features|label|\n",
      "+--------------------+-----+\n",
      "|[1.0,487.0,2.0,12...|    0|\n",
      "|[1.0,1388.0,2.0,1...|    0|\n",
      "|[1.0,983.0,2.0,18...|    0|\n",
      "|[2.0,689.0,2.0,83...|    0|\n",
      "|[1.0,539.0,1.0,84...|    0|\n",
      "+--------------------+-----+\n",
      "only showing top 5 rows\n",
      "\n"
     ]
    }
   ],
   "source": [
    "from pyspark.ml.linalg import Vectors\n",
    "from pyspark.ml.feature import VectorAssembler\n",
    "# [\"frequency\", \"acc_open_days\", \"gender\", \"birth_days\", \"client_cnt\", \"trans_cnt\", \"amt_s\", \"amt_a\", \"amt_d\", \"amt_x\", \"amt_n\", \"balance_s\", \"balance_a\", \"balance_d\", \"balance_x\", \"balance_n\", \"trans_dt_r\", \"symbol_1\", \"symbol_2\", \"symbol_3\", \"symbol_4\", \"symbol_6\", \"symbol_amt_1_s\", \"symbol_amt_2_s\", \"symbol_amt_3_s\", \"symbol_amt_4_s\", \"symbol_amt_6_s\", \"symbol_amt_1_x\", \"symbol_amt_2_x\", \"symbol_amt_3_x\", \"symbol_amt_4_x\", \"symbol_amt_6_x\", \"symbol_amt_1_n\", \"symbol_amt_2_n\", \"symbol_amt_3_n\", \"symbol_amt_4_n\", \"symbol_amt_6_n\", \"card_cnt\", \"card_tp\", \"card_issued_days\", \"region_tp\", \"Inhabitants\", \"Municipalities499\", \"Municipalities1999\", \"Municipalities9999\", \"Municipalities10000\", \"cities\", \"urbanratio\", \"avgsalary\", \"unemploy95\", \"unemploy96\", \"Enterpreneurs\", \"crimes95\", \"crimes96\", \"payorder_cnt\", \"payorder_amt_s\", \"payorder_amt_a\", \"payorder_amt_t\", \"payorder_amt_x\", \"payorder_symbol_1\", \"payorder_symbol_2\", \"payorder_symbol_3\", \"payorder_symbol_4\", \"payorder_symbol_6\", \"granted_days\", \"amount\", \"duration\", \"payments\"]\n",
    "assembler = VectorAssembler(\n",
    "    inputCols=cols,\n",
    "    outputCol=\"features\")\n",
    "\n",
    "output = assembler.transform(df_loan)\n",
    "output.select(\"features\", \"label\").show(5)"
   ]
  },
  {
   "cell_type": "markdown",
   "metadata": {
    "deletable": true,
    "editable": true
   },
   "source": [
    "### 2.2 使用随机森林分类算法"
   ]
  },
  {
   "cell_type": "code",
   "execution_count": 9,
   "metadata": {
    "collapsed": true,
    "deletable": true,
    "editable": true
   },
   "outputs": [],
   "source": [
    "from pyspark.ml.classification import RandomForestClassifier\n",
    "\n",
    "rf = RandomForestClassifier(numTrees=95, maxDepth=5, maxBins=180, labelCol=\"label\", seed=207336481)\n"
   ]
  },
  {
   "cell_type": "markdown",
   "metadata": {
    "deletable": true,
    "editable": true
   },
   "source": [
    "### 2.3 对结果进行转换"
   ]
  },
  {
   "cell_type": "code",
   "execution_count": 10,
   "metadata": {
    "collapsed": true,
    "deletable": true,
    "editable": true
   },
   "outputs": [],
   "source": [
    "from pyspark.ml.feature import IndexToString\n",
    "from pyspark.ml import Model, Pipeline\n",
    "labelConverter = IndexToString(inputCol=\"prediction\", \n",
    "                               outputCol=\"predictedLabel\", labels=['not default', 'default'])"
   ]
  },
  {
   "cell_type": "markdown",
   "metadata": {
    "deletable": true,
    "editable": true
   },
   "source": [
    "### 2.4 组装为pipeline"
   ]
  },
  {
   "cell_type": "code",
   "execution_count": 11,
   "metadata": {
    "collapsed": true,
    "deletable": true,
    "editable": true
   },
   "outputs": [],
   "source": [
    "pipeline_rf = Pipeline(stages=[assembler, rf, labelConverter])"
   ]
  },
  {
   "cell_type": "markdown",
   "metadata": {
    "deletable": true,
    "editable": true
   },
   "source": [
    "### 2.5 分拆训练集"
   ]
  },
  {
   "cell_type": "code",
   "execution_count": 12,
   "metadata": {
    "collapsed": false,
    "deletable": true,
    "editable": true
   },
   "outputs": [
    {
     "name": "stdout",
     "output_type": "stream",
     "text": [
      "Number of training records: 465\n",
      "Number of testing records : 209\n"
     ]
    }
   ],
   "source": [
    "splitted_data = df_loan.randomSplit([0.7, 0.30], 24)\n",
    "train_data = splitted_data[0]\n",
    "test_data = splitted_data[1]\n",
    "#predict_data = splitted_data[2]\n",
    "\n",
    "print(\"Number of training records: \" + str(train_data.count()))\n",
    "print(\"Number of testing records : \" + str(test_data.count()))"
   ]
  },
  {
   "cell_type": "markdown",
   "metadata": {
    "deletable": true,
    "editable": true
   },
   "source": [
    "### 2.6 超参数优化\n",
    "<p style=\"text-indent: 2em; font-family: 微软雅黑; FONT-SIZE: 100%; COLOR: #191919; line-height: 1.5em;\">\n",
    "由于训练数据量较小，采用交叉校验方式，参数定位3折。优化采用网格搜索方式。\n",
    "</p>\n",
    "<p style=\"text-indent: 2em; font-family: 微软雅黑; FONT-SIZE: 100%; COLOR: #191919; line-height: 1.5em;\">\n",
    "对于优化的参数：\n",
    "<ul>\n",
    "    <li>maxDepth:&nbsp;&nbsp;表示算法复杂度</li>\n",
    "    <li>maxBins:&nbsp;&nbsp;在对连续变量离散化时的参数</li>\n",
    "    <li>numTrees:&nbsp;&nbsp;影响整体方差的参数</li>\n",
    "</ul>\n",
    "</p>\n"
   ]
  },
  {
   "cell_type": "code",
   "execution_count": 13,
   "metadata": {
    "collapsed": true,
    "deletable": true,
    "editable": true
   },
   "outputs": [],
   "source": [
    "from pyspark.ml.evaluation import BinaryClassificationEvaluator\n",
    "from pyspark.ml.tuning import CrossValidator, ParamGridBuilder\n",
    "\n",
    "paramGrid = ParamGridBuilder() \\\n",
    "    .addGrid(rf.maxDepth, [5, 6, 7]) \\\n",
    "    .addGrid(rf.maxBins, [120, 180]) \\\n",
    "    .addGrid(rf.numTrees, [85, 90, 95]) \\\n",
    "    .build()"
   ]
  },
  {
   "cell_type": "code",
   "execution_count": 14,
   "metadata": {
    "collapsed": true,
    "deletable": true,
    "editable": true
   },
   "outputs": [],
   "source": [
    "crossval = CrossValidator(estimator=pipeline_rf,\n",
    "                          estimatorParamMaps=paramGrid,\n",
    "                          evaluator=BinaryClassificationEvaluator(),\n",
    "                          numFolds=3)  # use 3+ folds in practice\n",
    "\n",
    "# Run cross-validation, and choose the best set of parameters.\n",
    "cvModel = crossval.fit(train_data)"
   ]
  },
  {
   "cell_type": "code",
   "execution_count": 31,
   "metadata": {
    "collapsed": true,
    "deletable": true,
    "editable": true
   },
   "outputs": [],
   "source": [
    "#model_rf = pipeline_rf.fit(train_data)"
   ]
  },
  {
   "cell_type": "markdown",
   "metadata": {
    "deletable": true,
    "editable": true
   },
   "source": [
    "### 2.7 计算模型性能"
   ]
  },
  {
   "cell_type": "code",
   "execution_count": 32,
   "metadata": {
    "collapsed": true,
    "deletable": true,
    "editable": true
   },
   "outputs": [],
   "source": [
    "#rf_tr = model_rf.transform(train_data)\n",
    "rf_tr = cvModel.bestModel.transform(train_data)\n"
   ]
  },
  {
   "cell_type": "code",
   "execution_count": 34,
   "metadata": {
    "collapsed": false,
    "deletable": true,
    "editable": true
   },
   "outputs": [],
   "source": [
    "#rf_te = model_rf.transform(test_data)\n",
    "rf_te = cvModel.bestModel.transform(test_data)\n"
   ]
  },
  {
   "cell_type": "code",
   "execution_count": 35,
   "metadata": {
    "collapsed": true,
    "deletable": true,
    "editable": true
   },
   "outputs": [],
   "source": [
    "from  pyspark.mllib.evaluation import BinaryClassificationMetrics\n",
    "\n",
    "def calcuAUC(rf_data):\n",
    "    s_l = rf_data.rdd.map(lambda x: [float(x.probability[1]), float(x.label)]).collect()\n",
    "    s_l = sc.parallelize(s_l)\n",
    "    metrics = BinaryClassificationMetrics(s_l)\n",
    "    print(\"areaUnderROC: \" + str(metrics.areaUnderROC))\n",
    "    print(\"areaUnderPR: \" + str(metrics.areaUnderPR))"
   ]
  },
  {
   "cell_type": "code",
   "execution_count": 36,
   "metadata": {
    "collapsed": false,
    "deletable": true,
    "editable": true
   },
   "outputs": [
    {
     "name": "stdout",
     "output_type": "stream",
     "text": [
      "areaUnderROC: 1.0\n",
      "areaUnderPR: 1.0\n"
     ]
    }
   ],
   "source": [
    "calcuAUC(rf_tr)"
   ]
  },
  {
   "cell_type": "code",
   "execution_count": 37,
   "metadata": {
    "collapsed": false,
    "deletable": true,
    "editable": true
   },
   "outputs": [
    {
     "name": "stdout",
     "output_type": "stream",
     "text": [
      "areaUnderROC: 0.9997662459093034\n",
      "areaUnderPR: 0.9981490233144298\n"
     ]
    }
   ],
   "source": [
    "calcuAUC(rf_te)"
   ]
  },
  {
   "cell_type": "code",
   "execution_count": 38,
   "metadata": {
    "collapsed": true,
    "deletable": true,
    "editable": true
   },
   "outputs": [],
   "source": [
    "from  pyspark.mllib.evaluation import MulticlassMetrics\n",
    "def calcuMetrics(rf_data):\n",
    "    predictionAndLabels = rf_data.rdd.map(lambda x: [float(x.prediction), float(x.label)]).collect()\n",
    "    predictionAndLabels = sc.parallelize(predictionAndLabels)\n",
    "    mmetrics = MulticlassMetrics(predictionAndLabels)\n",
    "    print(\"Accuracy: \", mmetrics.accuracy)\n",
    "    print(\"Precision for default: \", mmetrics.precision(1.0))\n",
    "    print(\"Recall for default: \", mmetrics.recall(1.0))\n",
    "    print(\"Precision for not default: \", mmetrics.precision(0.0))\n",
    "    print(\"Recall for not default: \", mmetrics.recall(0.0))\n",
    "    print(\"TruePositiveRate for default: \", mmetrics.truePositiveRate(1.0))\n",
    "    print(\"FalsePositiveRate for default: \", mmetrics.falsePositiveRate(1.0))\n",
    "    print(\"TruePositiveRate for not default: \", mmetrics.truePositiveRate(0.0))\n",
    "    print(\"FalsePositiveRate for not default: \", mmetrics.falsePositiveRate(0.0))\n",
    "    print(\"ConfusionMatrix: \", mmetrics.confusionMatrix())"
   ]
  },
  {
   "cell_type": "code",
   "execution_count": 39,
   "metadata": {
    "collapsed": false,
    "deletable": true,
    "editable": true
   },
   "outputs": [
    {
     "name": "stdout",
     "output_type": "stream",
     "text": [
      "Accuracy:  1.0\n",
      "Precision for default:  1.0\n",
      "Recall for default:  1.0\n",
      "Precision for not default:  1.0\n",
      "Recall for not default:  1.0\n",
      "TruePositiveRate for default:  1.0\n",
      "FalsePositiveRate for default:  0.0\n",
      "TruePositiveRate for not default:  1.0\n",
      "FalsePositiveRate for not default:  0.0\n",
      "ConfusionMatrix:  DenseMatrix([[414.,   0.],\n",
      "             [  0.,  51.]])\n"
     ]
    }
   ],
   "source": [
    "calcuMetrics(rf_tr)"
   ]
  },
  {
   "cell_type": "code",
   "execution_count": 40,
   "metadata": {
    "collapsed": false,
    "deletable": true,
    "editable": true
   },
   "outputs": [
    {
     "name": "stdout",
     "output_type": "stream",
     "text": [
      "Accuracy:  0.9952153110047847\n",
      "Precision for default:  1.0\n",
      "Recall for default:  0.9565217391304348\n",
      "Precision for not default:  0.9946524064171123\n",
      "Recall for not default:  1.0\n",
      "TruePositiveRate for default:  0.9565217391304348\n",
      "FalsePositiveRate for default:  0.0\n",
      "TruePositiveRate for not default:  1.0\n",
      "FalsePositiveRate for not default:  0.043478260869565216\n",
      "ConfusionMatrix:  DenseMatrix([[186.,   0.],\n",
      "             [  1.,  22.]])\n"
     ]
    }
   ],
   "source": [
    "calcuMetrics(rf_te)"
   ]
  },
  {
   "cell_type": "markdown",
   "metadata": {
    "deletable": true,
    "editable": true
   },
   "source": [
    "## 3. 根据贡献度给出特征排序"
   ]
  },
  {
   "cell_type": "code",
   "execution_count": 41,
   "metadata": {
    "collapsed": true,
    "deletable": true,
    "editable": true
   },
   "outputs": [],
   "source": [
    "#rf_model = model_rf.stages[1]\n",
    "rf_model = cvModel.bestModel.stages[1]"
   ]
  },
  {
   "cell_type": "code",
   "execution_count": 42,
   "metadata": {
    "collapsed": true,
    "deletable": true,
    "editable": true
   },
   "outputs": [],
   "source": [
    "col_imps = list(zip(cols, rf_model.featureImportances))"
   ]
  },
  {
   "cell_type": "code",
   "execution_count": 43,
   "metadata": {
    "collapsed": true,
    "deletable": true,
    "editable": true
   },
   "outputs": [],
   "source": [
    "col_imps.sort(key=lambda x: x[1], reverse=True)"
   ]
  },
  {
   "cell_type": "code",
   "execution_count": 45,
   "metadata": {
    "collapsed": false,
    "deletable": true,
    "editable": true
   },
   "outputs": [
    {
     "name": "stdout",
     "output_type": "stream",
     "text": [
      "balance_n \t:  0.37918140002627626\n",
      "amt_n \t:  0.18137933031017298\n",
      "balance_a \t:  0.061910344917902795\n",
      "balance_d \t:  0.022454375059574566\n",
      "symbol_amt_4_x \t:  0.019172597250709904\n",
      "symbol_amt_6_a \t:  0.017849736979680335\n",
      "payorder_symbol_2 \t:  0.016957966956763354\n",
      "amount \t:  0.014546909282150704\n",
      "balance_s \t:  0.014399785337960233\n",
      "payments \t:  0.013955134300917892\n",
      "symbol_amt_6_s \t:  0.01274706399029782\n",
      "payorder_amt_t \t:  0.011808340870966834\n",
      "balance_x \t:  0.011650519952189048\n",
      "amt_x \t:  0.01087497086702455\n",
      "symbol_amt_5_a \t:  0.010571224350669565\n",
      "symbol_amt_5_x \t:  0.01040935159765619\n",
      "payorder_cnt \t:  0.008064792139447191\n",
      "payorder_amt_x \t:  0.007359559486660854\n",
      "symbol_5 \t:  0.0072300702812835285\n",
      "symbol_6 \t:  0.006787245174304823\n",
      "payorder_amt_s \t:  0.00677487838822423\n",
      "symbol_amt_2_s \t:  0.006532600245316338\n",
      "granted_days \t:  0.006514565104088321\n",
      "symbol_amt_4_a \t:  0.005890350253610058\n",
      "Municipalities499 \t:  0.005841986374233306\n",
      "birth_days \t:  0.005670350908004508\n",
      "symbol_amt_2_x \t:  0.0053563765818979946\n",
      "symbol_amt_2_a \t:  0.0053239568709887684\n",
      "avgsalary \t:  0.005315637817616858\n",
      "amt_s \t:  0.005182380703960381\n"
     ]
    }
   ],
   "source": [
    "for i in range(30):\n",
    "    print(col_imps[i][0], \"\\t: \", col_imps[i][1])"
   ]
  },
  {
   "cell_type": "code",
   "execution_count": 46,
   "metadata": {
    "collapsed": true,
    "deletable": true,
    "editable": true
   },
   "outputs": [],
   "source": [
    "keys = [t[0] for t in col_imps]\n",
    "imps = [t[1] for t in col_imps]"
   ]
  },
  {
   "cell_type": "code",
   "execution_count": 48,
   "metadata": {
    "collapsed": false,
    "deletable": true,
    "editable": true
   },
   "outputs": [
    {
     "data": {
      "image/png": "[encoded data removed]",
      "text/plain": [
       "<Figure size 864x1728 with 1 Axes>"
      ]
     },
     "metadata": {},
     "output_type": "display_data"
    }
   ],
   "source": [
    "import matplotlib.pyplot as plt\n",
    "import numpy as np\n",
    "from matplotlib.ticker import MultipleLocator, FormatStrFormatter\n",
    "\n",
    "plt.figure(figsize = (12, 24))\n",
    "ax = plt.subplot()\n",
    "ax.barh(list(reversed(range(len(keys)))), imps, 0.7,  alpha=0.4, color='r')\n",
    "ax.set_yticks(list(reversed(range(len(keys)))))\n",
    "ax.set_yticklabels(keys)\n",
    "    \n",
    "plt.title('Feature Importances')\n",
    "plt.show()"
   ]
  },
  {
   "cell_type": "code",
   "execution_count": 49,
   "metadata": {
    "collapsed": true,
    "deletable": true,
    "editable": true
   },
   "outputs": [],
   "source": [
    "spark.stop()"
   ]
  },
  {
   "cell_type": "markdown",
   "metadata": {
    "deletable": true,
    "editable": true
   },
   "source": [
    "## 作者\n",
    "\n",
    "**李英伟 liyingw@cn.ibm.com ** "
   ]
  },
  {
   "cell_type": "code",
   "execution_count": null,
   "metadata": {
    "collapsed": true,
    "deletable": true,
    "editable": true
   },
   "outputs": [],
   "source": []
  }
 ],
 "metadata": {
  "kernelspec": {
   "display_name": "Python3.5 with DSX Spark 2.2.1",
   "language": "python",
   "name": "python3"
  },
  "language_info": {
   "codemirror_mode": {
    "name": "ipython",
    "version": 3
   },
   "file_extension": ".py",
   "mimetype": "text/x-python",
   "name": "python",
   "nbconvert_exporter": "python",
   "pygments_lexer": "ipython3",
   "version": "3.5.2"
  }
 },
 "nbformat": 4,
 "nbformat_minor": 2
}
